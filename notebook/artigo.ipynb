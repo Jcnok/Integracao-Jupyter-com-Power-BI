{
 "cells": [
  {
   "cell_type": "markdown",
   "id": "c5aaec67-b5e9-4b81-8a01-dbf343dfbc97",
   "metadata": {},
   "source": [
    "# Como Utilizar a Função DAX `SUMMARIZECOLUMNS` no Power BI para Criar KPIs Poderosos"
   ]
  },
  {
   "cell_type": "markdown",
   "id": "aef851a6-7e3e-49d9-9716-0e52d27ab240",
   "metadata": {},
   "source": [
    "## Introdução"
   ]
  },
  {
   "cell_type": "markdown",
   "id": "369a2084-aa1c-4280-831f-113c2a76c46d",
   "metadata": {},
   "source": [
    "O Power BI é uma ferramenta poderosa para análise e visualização de dados, amplamente utilizada por profissionais de diversas áreas para criar relatórios dinâmicos e interativos. Uma das linguagens mais importantes no Power BI é o DAX (Data Analysis Expressions), que permite a criação de fórmulas complexas para manipulação de dados. Neste artigo, focaremos na função DAX `SUMMARIZECOLUMNS`, explorando suas funcionalidades e como utilizá-la para criar KPIs valiosos. Utilizaremos o dataset `financial-sample` disponível no [data.world](https://data.world/jcnok/financial-sample) e integraremos as visualizações diretamente a partir do Jupyter Notebook usando a biblioteca `powerbiclient`."
   ]
  },
  {
   "cell_type": "markdown",
   "id": "d9bcb6d8-39b3-4660-845e-886091645d03",
   "metadata": {},
   "source": [
    "## Fórmula DAX Escolhida: `SUMMARIZECOLUMNS`"
   ]
  },
  {
   "cell_type": "markdown",
   "id": "03e13058-3533-44a9-b575-b57ef719e55c",
   "metadata": {},
   "source": [
    "### Principais Funcionalidades"
   ]
  },
  {
   "cell_type": "markdown",
   "id": "e67f9fc9-a289-43ca-a533-04b9d4eef64c",
   "metadata": {},
   "source": [
    "A função `SUMMARIZECOLUMNS` é utilizada para criar tabelas resumidas, agrupando dados por colunas especificadas e realizando agregações. Ela é particularmente eficiente e otimizada para consultas DAX no Power BI."
   ]
  },
  {
   "cell_type": "markdown",
   "id": "192da133-3bf1-4e1f-86b3-06e89539f30f",
   "metadata": {},
   "source": [
    "### Sintaxe\n",
    "\n",
    "```dax\n",
    "SUMMARIZECOLUMNS (\n",
    "    <GroupBy_ColumnName>,\n",
    "    [<FilterTable>],\n",
    "    <Name> [, <Expression>] [, <Name>, <Expression>]...\n",
    ")\n",
    "```"
   ]
  },
  {
   "cell_type": "markdown",
   "id": "ceaba39f-9358-4a19-8936-fadcd10a53ac",
   "metadata": {},
   "source": [
    "### KPIs que Podem Ser Geradas\n",
    "\n",
    "- Vendas Brutas por Segmento\n",
    "- Descontos por Segmento\n",
    "- Lucro Médio por Segmento\n",
    "- Preço de Venda Médio\n",
    "- Descontos Médios"
   ]
  },
  {
   "cell_type": "markdown",
   "id": "4ee82c5f-79a7-4c84-88fb-ca0173886d7d",
   "metadata": {
    "tags": []
   },
   "source": [
    "### Quando e Por Que Usar\n",
    "\n",
    "Use `SUMMARIZECOLUMNS` quando precisar criar resumos de dados agrupados por uma ou mais colunas, especialmente quando o desempenho é uma preocupação. É ideal para gerar KPIs que resumem dados de maneira eficiente."
   ]
  },
  {
   "cell_type": "markdown",
   "id": "e527b305-aaee-4acc-9f82-f569a5e8093b",
   "metadata": {},
   "source": [
    "## Antes vale a pena passar um overview das principais ferramentas que serão utilizadas:"
   ]
  },
  {
   "cell_type": "markdown",
   "id": "07827f7d-a643-4ad7-b125-50697d82240a",
   "metadata": {},
   "source": [
    "### Plataforma data.world\n",
    "\n",
    "A [data.world](https://data.world/) é uma plataforma colaborativa para dados e análises, que permite armazenar, compartilhar e explorar dados. Facilita a colaboração entre equipes e a integração de dados de várias fontes, promovendo insights e decisões baseadas em dados.\n",
    "\n",
    "### Usabilidade da API data.world\n",
    "\n",
    "A API [datadotworld](https://pypi.org/project/datadotworld/) permite acessar e manipular datasets diretamente em Python. Ela facilita a integração com ferramentas analíticas, possibilitando consultas, uploads e compartilhamento de dados. Ideal para projetos que exigem automação e análise de dados eficiente.\n",
    "\n",
    "### Biblioteca powerbiclient\n",
    "\n",
    "A biblioteca [powerbiclient](https://pypi.org/project/powerbiclient/) facilita a integração do Power BI com Jupyter Notebooks. Permite a inserção e interação com relatórios do Power BI diretamente em notebooks, promovendo uma análise de dados interativa e visual. Ideal para analistas de dados que desejam combinar o poder de visualização do Power BI com a flexibilidade dos notebooks Jupyter.\n",
    "\n",
    "### API Power BI\n",
    "\n",
    "A API Power BI permite automação e integração avançada com a plataforma Power BI. Ela possibilita criar, gerenciar e compartilhar relatórios e dashboards, além de executar consultas DAX e obter insights. Ideal para desenvolvedores que buscam automatizar processos e integrar visualizações de dados em suas aplicações, promovendo análises e decisões baseadas em dados."
   ]
  },
  {
   "cell_type": "markdown",
   "id": "095ef883-5fa5-42b8-a579-eb4660fd05e8",
   "metadata": {},
   "source": [
    "## Passo a Passo: 5 Exemplos de `SUMMARIZECOLUMNS`\n",
    "\n",
    "Vamos criar e visualizar cinco KPIs usando a função `SUMMARIZECOLUMNS` no Jupyter Notebook."
   ]
  },
  {
   "cell_type": "markdown",
   "id": "cc4b2292-d46d-4b33-aea1-e27bfb5371ee",
   "metadata": {},
   "source": [
    "### Configurar o Ambiente\n",
    "\n",
    "Certifique-se de ter as bibliotecas necessárias instaladas:\n",
    "\n",
    "```\n",
    "$ pip install pandas requests powerbiclient python-dotenv datadotworld\n",
    "```"
   ]
  },
  {
   "cell_type": "markdown",
   "id": "56c84f2b-3d1c-472e-8f14-3304b7035156",
   "metadata": {},
   "source": [
    "Instalar a Biblioteca python-dotenv\n",
    "Primeiro, instale a biblioteca python-dotenv para carregar as variáveis de ambiente de um arquivo .env."
   ]
  },
  {
   "cell_type": "markdown",
   "id": "f3cd175d-88aa-4728-8fe7-d28baf6ab667",
   "metadata": {},
   "source": [
    "Crie um arquivo chamado .env no diretório raiz do seu projeto. Adicione suas chaves de acesso e tokens nesse arquivo. Por exemplo:"
   ]
  },
  {
   "cell_type": "markdown",
   "id": "35683960-1440-4e80-b880-504132a103d7",
   "metadata": {},
   "source": [
    "DW_API_TOKEN=seu_token_da_api_aqui"
   ]
  },
  {
   "cell_type": "markdown",
   "id": "ac1b8bf7-0159-4d50-bf02-dbc8fc0a16fa",
   "metadata": {},
   "source": [
    "### Importar as Bibliotecas"
   ]
  },
  {
   "cell_type": "code",
   "execution_count": 22,
   "id": "772eae8f-7d24-4b75-b1f1-9064ab5e0bee",
   "metadata": {},
   "outputs": [],
   "source": [
    "import requests\n",
    "import pandas as pd\n",
    "from powerbiclient import Report, models, QuickVisualize, get_dataset_config\n",
    "from powerbiclient.authentication import DeviceCodeLoginAuthentication\n",
    "from dotenv import load_dotenv\n",
    "import os\n",
    "import datadotworld as dw"
   ]
  },
  {
   "cell_type": "markdown",
   "id": "df196007-95e2-472d-b185-9aa7c5de468d",
   "metadata": {},
   "source": [
    "### Carregar o Arquivo .env no Seu Código Python\n",
    "No início do seu script Python, use a biblioteca dotenv para carregar as variáveis de ambiente do arquivo .env."
   ]
  },
  {
   "cell_type": "code",
   "execution_count": 2,
   "id": "fcbc5e4a-373d-473f-9cd4-ba7cbb31e06a",
   "metadata": {},
   "outputs": [],
   "source": [
    "# Carregar as variáveis do arquivo .env\n",
    "load_dotenv()\n",
    "\n",
    "# Acessar as variáveis de ambiente\n",
    "dw_api_token = os.getenv('DW_API_TOKEN')"
   ]
  },
  {
   "cell_type": "markdown",
   "id": "5f87d998-d470-4634-a961-4c46dddd4860",
   "metadata": {
    "tags": []
   },
   "source": [
    "### Esta biblioteca requer um token de autenticação da API data.world para funcionar.\n",
    "Seu token de autenticação pode ser obtido no data.world depois que você habilitar o [Python em Integrações]('https://data.world/integrations/python')"
   ]
  },
  {
   "cell_type": "markdown",
   "id": "88c3a6ed-dccf-4af5-a2fb-3d35397d945d",
   "metadata": {},
   "source": [
    "* **Para configurar a biblioteca, execute o seguinte comando:**"
   ]
  },
  {
   "cell_type": "markdown",
   "id": "b46d80c0-6d8d-4be7-926b-ed018a084fb7",
   "metadata": {},
   "source": [
    "$ dw configure"
   ]
  },
  {
   "cell_type": "markdown",
   "id": "90bdafe1-dd51-45f1-be25-3b89a2279fe4",
   "metadata": {},
   "source": [
    "* Alternativamente, os tokens podem ser fornecidos por meio da variável de ambiente DW_AUTH_TOKEN . Em máquinas MacOS ou Unix, execute (substituindo <YOUR_TOKEN>> abaixo pelo token obtido anteriormente):\n",
    "`export DW_AUTH_TOKEN=<YOUR_TOKEN>`"
   ]
  },
  {
   "cell_type": "markdown",
   "id": "20017de8-3e1d-4ecf-b9fc-dae4d73be05e",
   "metadata": {},
   "source": [
    "`$ export DW_AUTH_TOKEN=dw_api_token`"
   ]
  },
  {
   "cell_type": "code",
   "execution_count": 3,
   "id": "73ddac09-eed7-4373-af9c-446975458156",
   "metadata": {},
   "outputs": [],
   "source": [
    "!export DW_AUTH_TOKEN=dw_api_token"
   ]
  },
  {
   "cell_type": "markdown",
   "id": "f95511e8-4688-46bb-ba29-dfa3b3eb8c5f",
   "metadata": {},
   "source": [
    "### Carregando o dataset via API:"
   ]
  },
  {
   "cell_type": "markdown",
   "id": "ef54c0ff-7798-4af0-b6d9-f920897eedf6",
   "metadata": {},
   "source": [
    "* A função query() permite que conjuntos de dados sejam consultados ao vivo usando linguagens de consulta SQL ou SPARQL .\n",
    "\n",
    "* Para consultar um conjunto de dados, invoque a função query() . Por exemplo:"
   ]
  },
  {
   "cell_type": "code",
   "execution_count": 8,
   "id": "51582933-f8a6-4970-94ec-eb90d737c461",
   "metadata": {},
   "outputs": [],
   "source": [
    "results = dw.query('jcnok/financial-sample', 'SELECT * FROM financial_sample')"
   ]
  },
  {
   "cell_type": "code",
   "execution_count": 23,
   "id": "d266a2ae-62c6-468b-84e5-65108437808e",
   "metadata": {},
   "outputs": [
    {
     "data": {
      "text/html": [
       "<div>\n",
       "<style scoped>\n",
       "    .dataframe tbody tr th:only-of-type {\n",
       "        vertical-align: middle;\n",
       "    }\n",
       "\n",
       "    .dataframe tbody tr th {\n",
       "        vertical-align: top;\n",
       "    }\n",
       "\n",
       "    .dataframe thead th {\n",
       "        text-align: right;\n",
       "    }\n",
       "</style>\n",
       "<table border=\"1\" class=\"dataframe\">\n",
       "  <thead>\n",
       "    <tr style=\"text-align: right;\">\n",
       "      <th></th>\n",
       "      <th>segment</th>\n",
       "      <th>country</th>\n",
       "      <th>product</th>\n",
       "      <th>discount_band</th>\n",
       "      <th>units_sold</th>\n",
       "      <th>manufacturing_price</th>\n",
       "      <th>sale_price</th>\n",
       "      <th>gross_sales</th>\n",
       "      <th>discounts</th>\n",
       "      <th>sales</th>\n",
       "      <th>cogs</th>\n",
       "      <th>profit</th>\n",
       "      <th>date</th>\n",
       "      <th>month_number</th>\n",
       "      <th>month_name</th>\n",
       "      <th>year</th>\n",
       "    </tr>\n",
       "  </thead>\n",
       "  <tbody>\n",
       "    <tr>\n",
       "      <th>0</th>\n",
       "      <td>Government</td>\n",
       "      <td>Canada</td>\n",
       "      <td>Carretera</td>\n",
       "      <td>None</td>\n",
       "      <td>1618.5</td>\n",
       "      <td>3</td>\n",
       "      <td>20</td>\n",
       "      <td>32370.0</td>\n",
       "      <td>0.0</td>\n",
       "      <td>32370.0</td>\n",
       "      <td>16185.0</td>\n",
       "      <td>16185.0</td>\n",
       "      <td>2014-01-01</td>\n",
       "      <td>1</td>\n",
       "      <td>January</td>\n",
       "      <td>2014</td>\n",
       "    </tr>\n",
       "    <tr>\n",
       "      <th>1</th>\n",
       "      <td>Government</td>\n",
       "      <td>Germany</td>\n",
       "      <td>Carretera</td>\n",
       "      <td>None</td>\n",
       "      <td>1321.0</td>\n",
       "      <td>3</td>\n",
       "      <td>20</td>\n",
       "      <td>26420.0</td>\n",
       "      <td>0.0</td>\n",
       "      <td>26420.0</td>\n",
       "      <td>13210.0</td>\n",
       "      <td>13210.0</td>\n",
       "      <td>2014-01-01</td>\n",
       "      <td>1</td>\n",
       "      <td>January</td>\n",
       "      <td>2014</td>\n",
       "    </tr>\n",
       "    <tr>\n",
       "      <th>2</th>\n",
       "      <td>Midmarket</td>\n",
       "      <td>France</td>\n",
       "      <td>Carretera</td>\n",
       "      <td>None</td>\n",
       "      <td>2178.0</td>\n",
       "      <td>3</td>\n",
       "      <td>15</td>\n",
       "      <td>32670.0</td>\n",
       "      <td>0.0</td>\n",
       "      <td>32670.0</td>\n",
       "      <td>21780.0</td>\n",
       "      <td>10890.0</td>\n",
       "      <td>2014-06-01</td>\n",
       "      <td>6</td>\n",
       "      <td>June</td>\n",
       "      <td>2014</td>\n",
       "    </tr>\n",
       "    <tr>\n",
       "      <th>3</th>\n",
       "      <td>Midmarket</td>\n",
       "      <td>Germany</td>\n",
       "      <td>Carretera</td>\n",
       "      <td>None</td>\n",
       "      <td>888.0</td>\n",
       "      <td>3</td>\n",
       "      <td>15</td>\n",
       "      <td>13320.0</td>\n",
       "      <td>0.0</td>\n",
       "      <td>13320.0</td>\n",
       "      <td>8880.0</td>\n",
       "      <td>4440.0</td>\n",
       "      <td>2014-06-01</td>\n",
       "      <td>6</td>\n",
       "      <td>June</td>\n",
       "      <td>2014</td>\n",
       "    </tr>\n",
       "    <tr>\n",
       "      <th>4</th>\n",
       "      <td>Midmarket</td>\n",
       "      <td>Mexico</td>\n",
       "      <td>Carretera</td>\n",
       "      <td>None</td>\n",
       "      <td>2470.0</td>\n",
       "      <td>3</td>\n",
       "      <td>15</td>\n",
       "      <td>37050.0</td>\n",
       "      <td>0.0</td>\n",
       "      <td>37050.0</td>\n",
       "      <td>24700.0</td>\n",
       "      <td>12350.0</td>\n",
       "      <td>2014-06-01</td>\n",
       "      <td>6</td>\n",
       "      <td>June</td>\n",
       "      <td>2014</td>\n",
       "    </tr>\n",
       "  </tbody>\n",
       "</table>\n",
       "</div>"
      ],
      "text/plain": [
       "      segment  country    product discount_band  units_sold  \\\n",
       "0  Government   Canada  Carretera          None      1618.5   \n",
       "1  Government  Germany  Carretera          None      1321.0   \n",
       "2   Midmarket   France  Carretera          None      2178.0   \n",
       "3   Midmarket  Germany  Carretera          None       888.0   \n",
       "4   Midmarket   Mexico  Carretera          None      2470.0   \n",
       "\n",
       "   manufacturing_price  sale_price  gross_sales  discounts    sales     cogs  \\\n",
       "0                    3          20      32370.0        0.0  32370.0  16185.0   \n",
       "1                    3          20      26420.0        0.0  26420.0  13210.0   \n",
       "2                    3          15      32670.0        0.0  32670.0  21780.0   \n",
       "3                    3          15      13320.0        0.0  13320.0   8880.0   \n",
       "4                    3          15      37050.0        0.0  37050.0  24700.0   \n",
       "\n",
       "    profit        date  month_number month_name  year  \n",
       "0  16185.0  2014-01-01             1    January  2014  \n",
       "1  13210.0  2014-01-01             1    January  2014  \n",
       "2  10890.0  2014-06-01             6       June  2014  \n",
       "3   4440.0  2014-06-01             6       June  2014  \n",
       "4  12350.0  2014-06-01             6       June  2014  "
      ]
     },
     "execution_count": 23,
     "metadata": {},
     "output_type": "execute_result"
    }
   ],
   "source": [
    "df = results.dataframe\n",
    "df.head()"
   ]
  },
  {
   "cell_type": "markdown",
   "id": "381aada1-0a71-4af0-bf05-b14cf9fc04b3",
   "metadata": {},
   "source": [
    "### Autenticação no Power BI"
   ]
  },
  {
   "cell_type": "code",
   "execution_count": 24,
   "id": "a67f5937-ec66-415b-888a-a9b7a9bfe61a",
   "metadata": {},
   "outputs": [
    {
     "name": "stdout",
     "output_type": "stream",
     "text": [
      "Performing device flow authentication. Please follow the instructions below.\n",
      "To sign in, use a web browser to open the page https://microsoft.com/devicelogin and enter the code FBV27LTWA to authenticate.\n",
      "\n",
      "Device flow authentication successfully completed.\n",
      "You are now logged in .\n",
      "\n",
      "The result should be passed only to trusted code in your notebook.\n"
     ]
    }
   ],
   "source": [
    "device_auth = DeviceCodeLoginAuthentication()\n",
    "token = device_auth.get_access_token()\n",
    "headers = {\n",
    "    'Content-Type': 'application/json',\n",
    "    'Authorization': f'Bearer {token}'\n",
    "}"
   ]
  },
  {
   "cell_type": "markdown",
   "id": "133bd774-2d54-4ae2-8f45-6f54df8c8419",
   "metadata": {},
   "source": [
    "### Visualizando seus Dados no Power BI\n",
    "\n",
    "Agora que seus dados estão prontos e você está autenticado, é hora de criar visualizações no Power BI. O código a seguir faz exatamente isso:"
   ]
  },
  {
   "cell_type": "code",
   "execution_count": 25,
   "id": "c5fceee4-e0f8-4fd9-9e3d-a5381b64a2be",
   "metadata": {},
   "outputs": [],
   "source": [
    "PBI_visualize = QuickVisualize(get_dataset_config(df), auth=device_auth)"
   ]
  },
  {
   "cell_type": "markdown",
   "id": "96027d6a-b5fe-45e7-8eac-451db504037f",
   "metadata": {},
   "source": [
    "* **Renderizando o Relatório**\n",
    "\n",
    "Agora já é possível renderizar o relatório diretamente no Jupyter Notebook:"
   ]
  },
  {
   "cell_type": "code",
   "execution_count": 26,
   "id": "3011b961-2580-4427-9f0e-b92fab24ea04",
   "metadata": {},
   "outputs": [
    {
     "data": {
      "application/vnd.jupyter.widget-view+json": {
       "model_id": "2f627a8b63814f2ea982f8a2bb6fd3ff",
       "version_major": 2,
       "version_minor": 0
      },
      "text/plain": [
       "QuickVisualize()"
      ]
     },
     "execution_count": 26,
     "metadata": {},
     "output_type": "execute_result"
    }
   ],
   "source": [
    "PBI_visualize"
   ]
  },
  {
   "cell_type": "markdown",
   "id": "ccd5ac22-f594-466b-83a0-56b7fc8bb178",
   "metadata": {},
   "source": [
    "### Definir e Executar Consultas DAX\n",
    "\n",
    "Defina as consultas DAX que serão utilizadas para extrair os KPIs."
   ]
  },
  {
   "cell_type": "code",
   "execution_count": 12,
   "id": "e674dc32-73a1-47bd-9c9b-7dddd31a64c9",
   "metadata": {},
   "outputs": [],
   "source": [
    "dax_queries = [\n",
    "    {\"query\": \"EVALUATE SUMMARIZECOLUMNS('Table'[Segment], 'Table'[Gross Sales])\"},\n",
    "    {\"query\": \"EVALUATE SUMMARIZECOLUMNS('Table'[Segment], 'Table'[Discounts])\"},\n",
    "    {\"query\": \"EVALUATE SUMMARIZECOLUMNS('Table'[Segment], 'Table'[Profit])\"},\n",
    "    {\"query\": \"EVALUATE ROW('Average Sale Price', CALCULATE(AVERAGE('Table'[Sale Price])))\"},\n",
    "    {\"query\": \"EVALUATE ROW('Average Discounts', CALCULATE(AVERAGE('Table'[Discounts])))\"}\n",
    "]"
   ]
  },
  {
   "cell_type": "markdown",
   "id": "bf24149e-2782-4b99-aa50-56052950c98f",
   "metadata": {},
   "source": [
    "dataset_id = 'edf35402-a994-4111-b4a3-65b644fb25de'\n",
    "url = f'https://api.powerbi.com/v1.0/myorg/datasets/{dataset_id}/executeQueries'\n",
    "\n",
    "def execute_dax_query(dax_query, headers, url):\n",
    "    response = requests.post(url, headers=headers, json={\"queries\": [dax_query], \"serializerSettings\": {\"includeNulls\": True}})\n",
    "    response_data = response.json()\n",
    "    results = response_data['results'][0]['tables'][0]['rows']\n",
    "    df = pd.DataFrame(results)\n",
    "    return df\n",
    "\n",
    "dfs = []\n",
    "for dax_query in dax_queries:\n",
    "    df = execute_dax_query(dax_query, headers, url)\n",
    "    dfs.append(df)\n",
    "```\n",
    "\n",
    "### Passo 5: Visualizar os Resultados\n",
    "\n",
    "Vamos utilizar `matplotlib` para criar visualizações e a biblioteca `QuickVisualize` para integrá-las ao Power BI.\n",
    "\n",
    "```python\n",
    "# Visualização de Vendas Brutas por Segmento\n",
    "df_sales = dfs[0]\n",
    "df_sales.columns = ['Segment', 'Gross Sales']\n",
    "\n",
    "plt.figure(figsize=(10, 6))\n",
    "plt.bar(df_sales['Segment'], df_sales['Gross Sales'])\n",
    "plt.title('Vendas Brutas por Segmento')\n",
    "plt.xlabel('Segmento')\n",
    "plt.ylabel('Vendas Brutas')\n",
    "plt.show()\n",
    "```\n",
    "\n",
    "```python\n",
    "# Visualização de Descontos por Segmento\n",
    "df_discounts = dfs[1]\n",
    "df_discounts.columns = ['Segment', 'Discounts']\n",
    "\n",
    "plt.figure(figsize=(10, 6))\n",
    "plt.bar(df_discounts['Segment'], df_discounts['Discounts'], color='orange')\n",
    "plt.title('Descontos por Segmento')\n",
    "plt.xlabel('Segmento')\n",
    "plt.ylabel('Descontos')\n",
    "plt.show()\n",
    "```\n",
    "\n",
    "```python\n",
    "# Visualização de Lucro Médio por Segmento\n",
    "df_profit = dfs[2]\n",
    "df_profit.columns = ['Segment', 'Profit']\n",
    "\n",
    "plt.figure(figsize=(10, 6))\n",
    "plt.bar(df_profit['Segment'], df_profit['Profit'], color='green')\n",
    "plt.title('Lucro Médio por Segmento')\n",
    "plt.xlabel('Segmento')\n",
    "plt.ylabel('Lucro Médio')\n",
    "plt.show()\n",
    "```\n",
    "\n",
    "```python\n",
    "# Visualização de Preço de Venda Médio\n",
    "df_avg_sale_price = dfs[3]\n",
    "df_avg_sale_price.columns = ['Metric', 'Average Sale Price']\n",
    "\n",
    "plt.figure(figsize=(10, 6))\n",
    "plt.bar(df_avg_sale_price['Metric'], df_avg_sale_price['Average Sale Price'], color='purple')\n",
    "plt.title('Preço de Venda Médio')\n",
    "plt.xlabel('Métrica')\n",
    "plt.ylabel('Preço de Venda Médio')\n",
    "plt.show()\n",
    "```\n",
    "\n",
    "```python\n",
    "# Visualização de Descontos Médios\n",
    "df_avg_discounts = dfs[4]\n",
    "df_avg_discounts.columns = ['Metric', 'Average Discounts']\n",
    "\n",
    "plt.figure(figsize=(10, 6))\n",
    "plt.bar(df_avg_discounts['Metric'], df_avg_discounts['Average Discounts'], color='red')\n",
    "plt.title('Descontos Médios')\n",
    "plt.xlabel('Métrica')\n",
    "plt.ylabel('Descontos Médios')\n",
    "plt.show()\n",
    "```\n",
    "\n",
    "### Integrando Visualizações no Power BI\n",
    "\n",
    "Use a biblioteca `QuickVisualize` para integrar as visualizações ao Power BI.\n",
    "\n",
    "```python\n",
    "group_id = 'seu-group-id'  # Substitua pelo ID do seu workspace\n",
    "report_id = 'seu-report-id'  # Substitua pelo ID do seu relatório\n",
    "\n",
    "report = Report(group_id=group_id, report_id=report_id, auth=device_auth)\n",
    "quick_viz = QuickVisualize(df_sales)\n",
    "quick_viz.show()\n",
    "```\n",
    "\n",
    "### Explicação de Cada KPI\n",
    "\n",
    "- **Vendas Brutas por Segmento**: Indica a receita bruta gerada por cada segmento. Importante para identificar quais segmentos são mais lucrativos.\n",
    "- **Descontos por Segmento**: Mostra o total de descontos aplicados por segmento. Útil para avaliar políticas de desconto.\n",
    "- **Lucro Médio por Segmento**: Mede o lucro médio obtido por segmento, ajudando a entender a rentabilidade de cada segmento.\n",
    "- **Preço de Venda Médio**: Calcula o preço médio de venda dos produtos. Essencial para análises de precificação.\n",
    "- **Descontos Médios**: Indica o desconto médio aplicado, importante para avaliar a eficácia das estratégias de desconto.\n",
    "\n",
    "### Quando e Por Que Usar a Integração do Power BI ao Jupyter Notebook\n",
    "\n",
    "A integração do Power BI ao Jupyter Notebook é útil para:\n",
    "\n",
    "- **Análise Avançada**: Combinar as capacidades de análise do Python com as ferramentas de visualização do Power BI.\n",
    "- **Automação de Relatórios**: Automatizar a geração de relatórios e dashboards.\n",
    "- **Colaboração**: Facilitar a colaboração entre cientistas de dados e analistas de negócios.\n",
    "\n",
    "### Conclusão\n",
    "\n",
    "Neste artigo, exploramos a função DAX `SUMMARIZECOLUMNS` e como utilizá-la para criar KPIs poderosos no Power BI. Demonstramos como executar consultas DAX diretamente no Jupyter Notebook e integrar visualizações ao Power BI, proporcionando uma abordagem eficiente para análises avançadas e visualização de dados. Aproveite essas técnicas para melhorar suas habilidades em Power BI e criar dashboards cada vez mais sofisticados e informativos.\n",
    "\n",
    "### Recursos Adicionais\n",
    "\n",
    "- [Documentação Oficial do Power BI](https://docs.microsoft.com/power-bi/)\n",
    "- [Tutoriais de DAX](https://docs.microsoft.com/dax/)\n",
    "- [Biblioteca powerbiclient](https://pypi.org/project/powerbiclient/)\n",
    "\n",
    "---\n",
    "\n",
    "Espero que este artigo tenha sido útil e informativo. Boa sorte na sua jornada com Power BI e DAX!"
   ]
  }
 ],
 "metadata": {
  "kernelspec": {
   "display_name": "Python 3 (ipykernel)",
   "language": "python",
   "name": "python3"
  },
  "language_info": {
   "codemirror_mode": {
    "name": "ipython",
    "version": 3
   },
   "file_extension": ".py",
   "mimetype": "text/x-python",
   "name": "python",
   "nbconvert_exporter": "python",
   "pygments_lexer": "ipython3",
   "version": "3.12.1"
  }
 },
 "nbformat": 4,
 "nbformat_minor": 5
}
