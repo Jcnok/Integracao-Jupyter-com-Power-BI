{
 "cells": [
  {
   "cell_type": "markdown",
   "id": "c5aaec67-b5e9-4b81-8a01-dbf343dfbc97",
   "metadata": {},
   "source": [
    "# Como Utilizar a Função DAX `SUMMARIZECOLUMNS` no Power BI para Criar KPIs Poderosos"
   ]
  },
  {
   "cell_type": "markdown",
   "id": "aef851a6-7e3e-49d9-9716-0e52d27ab240",
   "metadata": {},
   "source": [
    "## Introdução"
   ]
  },
  {
   "cell_type": "markdown",
   "id": "369a2084-aa1c-4280-831f-113c2a76c46d",
   "metadata": {},
   "source": [
    "O Power BI é uma ferramenta poderosa para análise e visualização de dados, amplamente utilizada por profissionais de diversas áreas para criar relatórios dinâmicos e interativos. Uma das linguagens mais importantes no Power BI é o DAX (Data Analysis Expressions), que permite a criação de fórmulas complexas para manipulação de dados. Neste artigo, focaremos na função DAX `SUMMARIZECOLUMNS`, explorando suas funcionalidades e como utilizá-la para criar KPIs valiosos. Utilizaremos o dataset `financial-sample` disponível no [data.world](https://data.world/jcnok/financial-sample) e integraremos as visualizações diretamente a partir do Jupyter Notebook usando a biblioteca `powerbiclient`."
   ]
  },
  {
   "cell_type": "markdown",
   "id": "d9bcb6d8-39b3-4660-845e-886091645d03",
   "metadata": {},
   "source": [
    "## Fórmula DAX Escolhida: `SUMMARIZECOLUMNS`"
   ]
  },
  {
   "cell_type": "markdown",
   "id": "03e13058-3533-44a9-b575-b57ef719e55c",
   "metadata": {},
   "source": [
    "### Principais Funcionalidades"
   ]
  },
  {
   "cell_type": "markdown",
   "id": "e67f9fc9-a289-43ca-a533-04b9d4eef64c",
   "metadata": {},
   "source": [
    "A função `SUMMARIZECOLUMNS` é utilizada para criar tabelas resumidas, agrupando dados por colunas especificadas e realizando agregações. Ela é particularmente eficiente e otimizada para consultas DAX no Power BI."
   ]
  },
  {
   "cell_type": "markdown",
   "id": "192da133-3bf1-4e1f-86b3-06e89539f30f",
   "metadata": {},
   "source": [
    "### Sintaxe\n",
    "\n",
    "```dax\n",
    "SUMMARIZECOLUMNS (\n",
    "    <GroupBy_ColumnName>,\n",
    "    [<FilterTable>],\n",
    "    <Name> [, <Expression>] [, <Name>, <Expression>]...\n",
    ")\n",
    "```"
   ]
  },
  {
   "cell_type": "markdown",
   "id": "ceaba39f-9358-4a19-8936-fadcd10a53ac",
   "metadata": {},
   "source": [
    "### KPIs que vamos criar usando DAX:\n",
    "\n",
    "**KPIs por Segmento:**\n",
    "\n",
    "1. **Vendas Brutas por Segmento:**\n",
    "   Indica a receita bruta gerada por cada segmento. Importante para identificar quais segmentos são mais lucrativos.\n",
    "\n",
    "2. **Descontos por Segmento:**\n",
    "   Mostra o total de descontos aplicados por segmento. Útil para avaliar políticas de desconto.\n",
    "\n",
    "3. **Vendas por Segmento:**\n",
    "   Reflete o total de vendas líquidas após dedução de descontos. Essencial para entender a contribuição líquida de cada segmento.\n",
    "\n",
    "4. **Cost of Goods Sold (COGS) por Segmento:**\n",
    "   Exibe o custo direto dos bens vendidos por segmento. Crucial para analisar a margem de lucro e eficiência operacional em diferentes segmentos.\n",
    "\n",
    "5. **Lucro por Segmento:**\n",
    "   Demonstra o lucro líquido gerado por cada segmento após todos os custos. Importante para avaliar a rentabilidade e performance financeira de cada segmento.\n",
    "\n",
    "6. **Unidades Vendidas por Segmento:**\n",
    "   Apresenta a quantidade de unidades vendidas em cada segmento. Útil para entender a demanda e popularidade dos produtos em diferentes segmentos.\n"
   ]
  },
  {
   "cell_type": "markdown",
   "id": "31c9395c-2da2-424b-97cb-e3324f86ce0f",
   "metadata": {},
   "source": [
    "### Quando e Por Que Usar a Integração do Power BI ao Jupyter Notebook\n",
    "\n",
    "A integração do Power BI ao Jupyter Notebook é útil para:\n",
    "\n",
    "- **Análise Avançada**: Combinar as capacidades de análise do Python com as ferramentas de visualização do Power BI.\n",
    "- **Automação de Relatórios**: Automatizar a geração de relatórios e dashboards.\n",
    "- **Colaboração**: Facilitar a colaboração entre cientistas de dados e analistas de negócios."
   ]
  },
  {
   "cell_type": "markdown",
   "id": "e527b305-aaee-4acc-9f82-f569a5e8093b",
   "metadata": {},
   "source": [
    "## Antes vale a pena passar um overview das principais ferramentas que serão utilizadas:"
   ]
  },
  {
   "cell_type": "markdown",
   "id": "07827f7d-a643-4ad7-b125-50697d82240a",
   "metadata": {},
   "source": [
    "### Plataforma data.world\n",
    "\n",
    "A [data.world](https://data.world/) é uma plataforma colaborativa para dados e análises, que permite armazenar, compartilhar e explorar dados. Facilita a colaboração entre equipes e a integração de dados de várias fontes, promovendo insights e decisões baseadas em dados.\n",
    "\n",
    "### Usabilidade da API data.world\n",
    "\n",
    "A API [datadotworld](https://pypi.org/project/datadotworld/) permite acessar e manipular datasets diretamente em Python. Ela facilita a integração com ferramentas analíticas, possibilitando consultas, uploads e compartilhamento de dados. Ideal para projetos que exigem automação e análise de dados eficiente.\n",
    "\n",
    "### Biblioteca powerbiclient\n",
    "\n",
    "A biblioteca [powerbiclient](https://pypi.org/project/powerbiclient/) facilita a integração do Power BI com Jupyter Notebooks. Permite a inserção e interação com relatórios do Power BI diretamente em notebooks, promovendo uma análise de dados interativa e visual. Ideal para analistas de dados que desejam combinar o poder de visualização do Power BI com a flexibilidade dos notebooks Jupyter.\n",
    "\n",
    "### API Power BI\n",
    "\n",
    "A API Power BI permite automação e integração avançada com a plataforma Power BI. Ela possibilita criar, gerenciar e compartilhar relatórios e dashboards, além de executar consultas DAX e obter insights. Ideal para desenvolvedores que buscam automatizar processos e integrar visualizações de dados em suas aplicações, promovendo análises e decisões baseadas em dados."
   ]
  },
  {
   "cell_type": "markdown",
   "id": "095ef883-5fa5-42b8-a579-eb4660fd05e8",
   "metadata": {},
   "source": [
    "## Passo a Passo: Exemplos com `SUMMARIZECOLUMNS`\n",
    "\n",
    "Vamos criar e visualizar alguns KPIs usando a função `SUMMARIZECOLUMNS` no Jupyter Notebook."
   ]
  },
  {
   "cell_type": "markdown",
   "id": "cc4b2292-d46d-4b33-aea1-e27bfb5371ee",
   "metadata": {},
   "source": [
    "### Configurar o Ambiente\n",
    "\n",
    "* Certifique-se de ter as bibliotecas necessárias instaladas:\n",
    "\n",
    "```\n",
    "$ pip install jupyter pandas requests powerbiclient openpyxl datadotworld\n",
    "```"
   ]
  },
  {
   "cell_type": "markdown",
   "id": "bf1e2939-c0ff-4c3a-8129-d1be1d8874ac",
   "metadata": {},
   "source": [
    "* No prompt abra o jupyter lab:\n",
    "```\n",
    " $ jupyter lab\n",
    "``` "
   ]
  },
  {
   "cell_type": "markdown",
   "id": "ac1b8bf7-0159-4d50-bf02-dbc8fc0a16fa",
   "metadata": {},
   "source": [
    "### Importar as Bibliotecas"
   ]
  },
  {
   "cell_type": "code",
   "execution_count": 4,
   "id": "772eae8f-7d24-4b75-b1f1-9064ab5e0bee",
   "metadata": {},
   "outputs": [],
   "source": [
    "import requests\n",
    "import pandas as pd\n",
    "import os\n",
    "import datadotworld as dw\n",
    "from powerbiclient.authentication import DeviceCodeLoginAuthentication\n",
    "from powerbiclient import Report, models, QuickVisualize, get_dataset_config"
   ]
  },
  {
   "cell_type": "markdown",
   "id": "5f87d998-d470-4634-a961-4c46dddd4860",
   "metadata": {
    "tags": []
   },
   "source": [
    "### Esta biblioteca requer um token de autenticação da API data.world para funcionar.\n",
    "Seu token de autenticação pode ser obtido no data.world depois que você habilitar o [Python em Integrações]('https://data.world/integrations/python')"
   ]
  },
  {
   "cell_type": "markdown",
   "id": "88c3a6ed-dccf-4af5-a2fb-3d35397d945d",
   "metadata": {},
   "source": [
    "* **Para configurar a biblioteca, execute o seguinte comando:**"
   ]
  },
  {
   "cell_type": "markdown",
   "id": "b46d80c0-6d8d-4be7-926b-ed018a084fb7",
   "metadata": {},
   "source": [
    "$ dw configure"
   ]
  },
  {
   "cell_type": "markdown",
   "id": "90bdafe1-dd51-45f1-be25-3b89a2279fe4",
   "metadata": {},
   "source": [
    "* Alternativamente, os tokens podem ser fornecidos por meio da variável de ambiente DW_AUTH_TOKEN . Em máquinas MacOS ou Unix, execute (substituindo <YOUR_TOKEN>> abaixo pelo token obtido anteriormente):\n",
    "`export DW_AUTH_TOKEN=<YOUR_TOKEN>`"
   ]
  },
  {
   "cell_type": "markdown",
   "id": "20017de8-3e1d-4ecf-b9fc-dae4d73be05e",
   "metadata": {},
   "source": [
    "`$ export DW_AUTH_TOKEN=dw_api_token`"
   ]
  },
  {
   "cell_type": "code",
   "execution_count": 3,
   "id": "73ddac09-eed7-4373-af9c-446975458156",
   "metadata": {},
   "outputs": [],
   "source": [
    "!export DW_AUTH_TOKEN=dw_api_token"
   ]
  },
  {
   "cell_type": "markdown",
   "id": "f95511e8-4688-46bb-ba29-dfa3b3eb8c5f",
   "metadata": {},
   "source": [
    "### Carregando o dataset via API:"
   ]
  },
  {
   "cell_type": "markdown",
   "id": "ef54c0ff-7798-4af0-b6d9-f920897eedf6",
   "metadata": {},
   "source": [
    "* A função query() permite que conjuntos de dados sejam consultados ao vivo usando linguagens de consulta SQL ou SPARQL .\n",
    "\n",
    "* Para consultar um conjunto de dados, invoque a função query() . Por exemplo:"
   ]
  },
  {
   "cell_type": "code",
   "execution_count": 8,
   "id": "51582933-f8a6-4970-94ec-eb90d737c461",
   "metadata": {},
   "outputs": [],
   "source": [
    "results = dw.query('jcnok/financial-sample', 'SELECT * FROM financial_sample')"
   ]
  },
  {
   "cell_type": "code",
   "execution_count": 23,
   "id": "d266a2ae-62c6-468b-84e5-65108437808e",
   "metadata": {},
   "outputs": [
    {
     "data": {
      "text/html": [
       "<div>\n",
       "<style scoped>\n",
       "    .dataframe tbody tr th:only-of-type {\n",
       "        vertical-align: middle;\n",
       "    }\n",
       "\n",
       "    .dataframe tbody tr th {\n",
       "        vertical-align: top;\n",
       "    }\n",
       "\n",
       "    .dataframe thead th {\n",
       "        text-align: right;\n",
       "    }\n",
       "</style>\n",
       "<table border=\"1\" class=\"dataframe\">\n",
       "  <thead>\n",
       "    <tr style=\"text-align: right;\">\n",
       "      <th></th>\n",
       "      <th>segment</th>\n",
       "      <th>country</th>\n",
       "      <th>product</th>\n",
       "      <th>discount_band</th>\n",
       "      <th>units_sold</th>\n",
       "      <th>manufacturing_price</th>\n",
       "      <th>sale_price</th>\n",
       "      <th>gross_sales</th>\n",
       "      <th>discounts</th>\n",
       "      <th>sales</th>\n",
       "      <th>cogs</th>\n",
       "      <th>profit</th>\n",
       "      <th>date</th>\n",
       "      <th>month_number</th>\n",
       "      <th>month_name</th>\n",
       "      <th>year</th>\n",
       "    </tr>\n",
       "  </thead>\n",
       "  <tbody>\n",
       "    <tr>\n",
       "      <th>0</th>\n",
       "      <td>Government</td>\n",
       "      <td>Canada</td>\n",
       "      <td>Carretera</td>\n",
       "      <td>None</td>\n",
       "      <td>1618.5</td>\n",
       "      <td>3</td>\n",
       "      <td>20</td>\n",
       "      <td>32370.0</td>\n",
       "      <td>0.0</td>\n",
       "      <td>32370.0</td>\n",
       "      <td>16185.0</td>\n",
       "      <td>16185.0</td>\n",
       "      <td>2014-01-01</td>\n",
       "      <td>1</td>\n",
       "      <td>January</td>\n",
       "      <td>2014</td>\n",
       "    </tr>\n",
       "    <tr>\n",
       "      <th>1</th>\n",
       "      <td>Government</td>\n",
       "      <td>Germany</td>\n",
       "      <td>Carretera</td>\n",
       "      <td>None</td>\n",
       "      <td>1321.0</td>\n",
       "      <td>3</td>\n",
       "      <td>20</td>\n",
       "      <td>26420.0</td>\n",
       "      <td>0.0</td>\n",
       "      <td>26420.0</td>\n",
       "      <td>13210.0</td>\n",
       "      <td>13210.0</td>\n",
       "      <td>2014-01-01</td>\n",
       "      <td>1</td>\n",
       "      <td>January</td>\n",
       "      <td>2014</td>\n",
       "    </tr>\n",
       "    <tr>\n",
       "      <th>2</th>\n",
       "      <td>Midmarket</td>\n",
       "      <td>France</td>\n",
       "      <td>Carretera</td>\n",
       "      <td>None</td>\n",
       "      <td>2178.0</td>\n",
       "      <td>3</td>\n",
       "      <td>15</td>\n",
       "      <td>32670.0</td>\n",
       "      <td>0.0</td>\n",
       "      <td>32670.0</td>\n",
       "      <td>21780.0</td>\n",
       "      <td>10890.0</td>\n",
       "      <td>2014-06-01</td>\n",
       "      <td>6</td>\n",
       "      <td>June</td>\n",
       "      <td>2014</td>\n",
       "    </tr>\n",
       "    <tr>\n",
       "      <th>3</th>\n",
       "      <td>Midmarket</td>\n",
       "      <td>Germany</td>\n",
       "      <td>Carretera</td>\n",
       "      <td>None</td>\n",
       "      <td>888.0</td>\n",
       "      <td>3</td>\n",
       "      <td>15</td>\n",
       "      <td>13320.0</td>\n",
       "      <td>0.0</td>\n",
       "      <td>13320.0</td>\n",
       "      <td>8880.0</td>\n",
       "      <td>4440.0</td>\n",
       "      <td>2014-06-01</td>\n",
       "      <td>6</td>\n",
       "      <td>June</td>\n",
       "      <td>2014</td>\n",
       "    </tr>\n",
       "    <tr>\n",
       "      <th>4</th>\n",
       "      <td>Midmarket</td>\n",
       "      <td>Mexico</td>\n",
       "      <td>Carretera</td>\n",
       "      <td>None</td>\n",
       "      <td>2470.0</td>\n",
       "      <td>3</td>\n",
       "      <td>15</td>\n",
       "      <td>37050.0</td>\n",
       "      <td>0.0</td>\n",
       "      <td>37050.0</td>\n",
       "      <td>24700.0</td>\n",
       "      <td>12350.0</td>\n",
       "      <td>2014-06-01</td>\n",
       "      <td>6</td>\n",
       "      <td>June</td>\n",
       "      <td>2014</td>\n",
       "    </tr>\n",
       "  </tbody>\n",
       "</table>\n",
       "</div>"
      ],
      "text/plain": [
       "      segment  country    product discount_band  units_sold  \\\n",
       "0  Government   Canada  Carretera          None      1618.5   \n",
       "1  Government  Germany  Carretera          None      1321.0   \n",
       "2   Midmarket   France  Carretera          None      2178.0   \n",
       "3   Midmarket  Germany  Carretera          None       888.0   \n",
       "4   Midmarket   Mexico  Carretera          None      2470.0   \n",
       "\n",
       "   manufacturing_price  sale_price  gross_sales  discounts    sales     cogs  \\\n",
       "0                    3          20      32370.0        0.0  32370.0  16185.0   \n",
       "1                    3          20      26420.0        0.0  26420.0  13210.0   \n",
       "2                    3          15      32670.0        0.0  32670.0  21780.0   \n",
       "3                    3          15      13320.0        0.0  13320.0   8880.0   \n",
       "4                    3          15      37050.0        0.0  37050.0  24700.0   \n",
       "\n",
       "    profit        date  month_number month_name  year  \n",
       "0  16185.0  2014-01-01             1    January  2014  \n",
       "1  13210.0  2014-01-01             1    January  2014  \n",
       "2  10890.0  2014-06-01             6       June  2014  \n",
       "3   4440.0  2014-06-01             6       June  2014  \n",
       "4  12350.0  2014-06-01             6       June  2014  "
      ]
     },
     "execution_count": 23,
     "metadata": {},
     "output_type": "execute_result"
    }
   ],
   "source": [
    "df = results.dataframe\n",
    "df.head()"
   ]
  },
  {
   "cell_type": "markdown",
   "id": "381aada1-0a71-4af0-bf05-b14cf9fc04b3",
   "metadata": {},
   "source": [
    "### Autenticação no Power BI"
   ]
  },
  {
   "cell_type": "markdown",
   "id": "e5f392f9-79ab-4da8-9b85-26e1b70d3f80",
   "metadata": {},
   "source": [
    "* Para interagir com o Power BI, você precisa autenticar sua conta. Utilizaremos a autenticação com código de dispositivo, o que torna o processo seguro e conveniente:"
   ]
  },
  {
   "cell_type": "code",
   "execution_count": 10,
   "id": "a67f5937-ec66-415b-888a-a9b7a9bfe61a",
   "metadata": {},
   "outputs": [
    {
     "name": "stdout",
     "output_type": "stream",
     "text": [
      "Performing device flow authentication. Please follow the instructions below.\n",
      "To sign in, use a web browser to open the page https://microsoft.com/devicelogin and enter the code AAZ8RHBUG to authenticate.\n",
      "\n",
      "Device flow authentication successfully completed.\n",
      "You are now logged in .\n",
      "\n",
      "The result should be passed only to trusted code in your notebook.\n"
     ]
    }
   ],
   "source": [
    "device_auth = DeviceCodeLoginAuthentication()\n",
    "token = device_auth.get_access_token()\n",
    "headers = {\n",
    "    'Content-Type': 'application/json',\n",
    "    'Authorization': f'Bearer {token}'\n",
    "}"
   ]
  },
  {
   "cell_type": "markdown",
   "id": "027959b3-9a6e-4510-a627-31ca3e67da57",
   "metadata": {},
   "source": [
    "* Siga as instruções para copiar o código gerado e cole-o após acessar o link fornecido. Isso autentica sua conta do Power BI."
   ]
  },
  {
   "cell_type": "markdown",
   "id": "133bd774-2d54-4ae2-8f45-6f54df8c8419",
   "metadata": {},
   "source": [
    "### Visualizando seus Dados no Power BI\n",
    "\n",
    "Agora que seus dados estão prontos e você está autenticado, é hora de criar visualizações no Power BI. O código a seguir faz exatamente isso:"
   ]
  },
  {
   "cell_type": "code",
   "execution_count": 25,
   "id": "c5fceee4-e0f8-4fd9-9e3d-a5381b64a2be",
   "metadata": {},
   "outputs": [],
   "source": [
    "PBI_visualize = QuickVisualize(get_dataset_config(df), auth=device_auth)"
   ]
  },
  {
   "cell_type": "markdown",
   "id": "96027d6a-b5fe-45e7-8eac-451db504037f",
   "metadata": {},
   "source": [
    "* **Renderizando o Relatório**\n",
    "\n",
    "Agora já é possível renderizar o relatório diretamente no Jupyter Notebook:"
   ]
  },
  {
   "cell_type": "code",
   "execution_count": null,
   "id": "3011b961-2580-4427-9f0e-b92fab24ea04",
   "metadata": {},
   "outputs": [],
   "source": [
    "PBI_visualize"
   ]
  },
  {
   "cell_type": "markdown",
   "id": "8495179c-47ec-45ec-a8d4-17b890774ee1",
   "metadata": {},
   "source": [
    "![img](../img/pbi_visualize.png)"
   ]
  },
  {
   "cell_type": "markdown",
   "id": "b0af435e-1ece-4bb2-aba8-7d9f4e52a9c0",
   "metadata": {},
   "source": [
    "* QuickVisualize cria um dash rápido de forma automática, podemos alterar o tipo do gráfico e obter alguns insights simples.\n",
    "* Vamos clicar em salvar e dar um nome ao relatório."
   ]
  },
  {
   "cell_type": "markdown",
   "id": "6dca7500-1f06-4d90-b6c4-de18b0e7de4f",
   "metadata": {},
   "source": [
    "![img](../img/pbi_visualize_saved.png)"
   ]
  },
  {
   "cell_type": "markdown",
   "id": "6f8f4ada-4d14-498c-8472-7089e1e5433b",
   "metadata": {},
   "source": [
    "* Veja como foi simples obter os dados, visulizar um dash e salvar no powerbi.\n",
    "* Agora vamos executar algumas consultas em DAX."
   ]
  },
  {
   "cell_type": "markdown",
   "id": "ccd5ac22-f594-466b-83a0-56b7fc8bb178",
   "metadata": {},
   "source": [
    "### Definir e Executar Consultas DAX\n",
    "\n",
    "Defina as consultas DAX que serão utilizadas para extrair os KPIs."
   ]
  },
  {
   "cell_type": "markdown",
   "id": "0decdae5-c523-4e72-9808-5cd3272516ed",
   "metadata": {},
   "source": [
    "* Agora precisamos obter o id do dataset que foi salvo no powerbi acesse o link: [powerbi app](https://app.powerbi.com/)\n",
    "* Localize o dataset e conforme a imagem abaixo copie o id do dataset:"
   ]
  },
  {
   "cell_type": "markdown",
   "id": "d2d45da7-df1f-480d-bad0-bf2e0c0abbc0",
   "metadata": {},
   "source": [
    "![img](../img/dataset_id.png)"
   ]
  },
  {
   "cell_type": "markdown",
   "id": "5248746f-1775-41d0-af3e-df81efcc7421",
   "metadata": {},
   "source": [
    "### Defina as consultas DAX que serão utilizadas para extrair os KPIs."
   ]
  },
  {
   "cell_type": "code",
   "execution_count": 25,
   "id": "eca1b029-86ec-4213-855b-9ef0ecb094db",
   "metadata": {},
   "outputs": [],
   "source": [
    "# Lista de consultas DAX\n",
    "dax_queries = [\n",
    "    {\"query\": \"EVALUATE SUMMARIZECOLUMNS('Table'[Segment], 'Table'[Gross_Sales])\"},\n",
    "    {\"query\": \"EVALUATE SUMMARIZECOLUMNS('Table'[Segment], 'Table'[Discounts])\"},\n",
    "    {\"query\": \"EVALUATE SUMMARIZECOLUMNS('Table'[Segment], 'Table'[Sales])\"},\n",
    "    {\"query\": \"EVALUATE SUMMARIZECOLUMNS('Table'[Segment], 'Table'[COGS])\"},\n",
    "    {\"query\": \"EVALUATE SUMMARIZECOLUMNS('Table'[Segment], 'Table'[Profit])\"},\n",
    "    {\"query\": \"EVALUATE SUMMARIZECOLUMNS('Table'[Segment], 'Table'[Units_Sold])\"}    \n",
    "]"
   ]
  },
  {
   "cell_type": "markdown",
   "id": "d6a45fc4-dc95-46c9-a1f8-6c0db7c6d95a",
   "metadata": {},
   "source": [
    "### Aplicando as DAX queries e salvando em juntando em um único dataframe."
   ]
  },
  {
   "cell_type": "code",
   "execution_count": 34,
   "id": "bfdf089a-5f14-4b66-ad6d-3459a54b263b",
   "metadata": {},
   "outputs": [],
   "source": [
    "# link da api e id do dataset.\n",
    "dataset_id = 'edf35402-a994-4111-b4a3-65b644fb25de' \n",
    "url = f'https://api.powerbi.com/v1.0/myorg/datasets/{dataset_id}/executeQueries'"
   ]
  },
  {
   "cell_type": "code",
   "execution_count": null,
   "id": "7af0cf17-1d2c-4434-b07a-54292d0150fd",
   "metadata": {},
   "outputs": [],
   "source": [
    "# Função para executar consultas DAX e retornar DataFrame\n",
    "def execute_dax_query(dax_query, headers, url):\n",
    "    response = requests.post(url, headers=headers, json={\"queries\": [dax_query], \"serializerSettings\": {\"includeNulls\": True}})\n",
    "    response_data = response.json()\n",
    "    results = response_data['results'][0]['tables'][0]['rows']\n",
    "    df = pd.DataFrame(results)\n",
    "    return df\n",
    "\n",
    "# Executar consultas e realizando o join dos resultados\n",
    "dfs = []\n",
    "for dax_query in dax_queries:\n",
    "    df = execute_dax_query(dax_query, headers, url)\n",
    "    dfs.append(df)"
   ]
  },
  {
   "cell_type": "code",
   "execution_count": 33,
   "id": "65def2fc-5548-465a-86b9-1de84f4f1a52",
   "metadata": {},
   "outputs": [
    {
     "data": {
      "text/html": [
       "<div>\n",
       "<style scoped>\n",
       "    .dataframe tbody tr th:only-of-type {\n",
       "        vertical-align: middle;\n",
       "    }\n",
       "\n",
       "    .dataframe tbody tr th {\n",
       "        vertical-align: top;\n",
       "    }\n",
       "\n",
       "    .dataframe thead th {\n",
       "        text-align: right;\n",
       "    }\n",
       "</style>\n",
       "<table border=\"1\" class=\"dataframe\">\n",
       "  <thead>\n",
       "    <tr style=\"text-align: right;\">\n",
       "      <th></th>\n",
       "      <th>Table[segment]</th>\n",
       "      <th>Table[gross_sales]</th>\n",
       "    </tr>\n",
       "  </thead>\n",
       "  <tbody>\n",
       "    <tr>\n",
       "      <th>0</th>\n",
       "      <td>Government</td>\n",
       "      <td>15022.0</td>\n",
       "    </tr>\n",
       "    <tr>\n",
       "      <th>1</th>\n",
       "      <td>Government</td>\n",
       "      <td>6181.0</td>\n",
       "    </tr>\n",
       "    <tr>\n",
       "      <th>2</th>\n",
       "      <td>Government</td>\n",
       "      <td>8001.0</td>\n",
       "    </tr>\n",
       "    <tr>\n",
       "      <th>3</th>\n",
       "      <td>Government</td>\n",
       "      <td>10451.0</td>\n",
       "    </tr>\n",
       "    <tr>\n",
       "      <th>4</th>\n",
       "      <td>Government</td>\n",
       "      <td>11802.0</td>\n",
       "    </tr>\n",
       "    <tr>\n",
       "      <th>...</th>\n",
       "      <td>...</td>\n",
       "      <td>...</td>\n",
       "    </tr>\n",
       "    <tr>\n",
       "      <th>545</th>\n",
       "      <td>Small Business</td>\n",
       "      <td>769500.0</td>\n",
       "    </tr>\n",
       "    <tr>\n",
       "      <th>546</th>\n",
       "      <td>Midmarket</td>\n",
       "      <td>55125.0</td>\n",
       "    </tr>\n",
       "    <tr>\n",
       "      <th>547</th>\n",
       "      <td>Small Business</td>\n",
       "      <td>397200.0</td>\n",
       "    </tr>\n",
       "    <tr>\n",
       "      <th>548</th>\n",
       "      <td>Channel Partners</td>\n",
       "      <td>21300.0</td>\n",
       "    </tr>\n",
       "    <tr>\n",
       "      <th>549</th>\n",
       "      <td>Small Business</td>\n",
       "      <td>177300.0</td>\n",
       "    </tr>\n",
       "  </tbody>\n",
       "</table>\n",
       "<p>550 rows × 2 columns</p>\n",
       "</div>"
      ],
      "text/plain": [
       "       Table[segment]  Table[gross_sales]\n",
       "0          Government             15022.0\n",
       "1          Government              6181.0\n",
       "2          Government              8001.0\n",
       "3          Government             10451.0\n",
       "4          Government             11802.0\n",
       "..                ...                 ...\n",
       "545    Small Business            769500.0\n",
       "546         Midmarket             55125.0\n",
       "547    Small Business            397200.0\n",
       "548  Channel Partners             21300.0\n",
       "549    Small Business            177300.0\n",
       "\n",
       "[550 rows x 2 columns]"
      ]
     },
     "execution_count": 33,
     "metadata": {},
     "output_type": "execute_result"
    }
   ],
   "source": [
    "# Visualizando uma das consultas salvas.\n",
    "dfs[0]"
   ]
  },
  {
   "cell_type": "markdown",
   "id": "3985b9a6-9079-4ee8-b8b8-92315b721905",
   "metadata": {},
   "source": [
    "### Agora podemos Visualizar os Resultados:\n",
    "\n",
    "Vamos utilizar biblioteca `QuickVisualize` para criar visualizações com Power BI."
   ]
  },
  {
   "cell_type": "markdown",
   "id": "51a3917d-a354-4dff-b227-676f4cd1b057",
   "metadata": {},
   "source": [
    "#### Exemplo de Visualização: Gráfico de Barras para Vendas Brutas por Segmento"
   ]
  },
  {
   "cell_type": "markdown",
   "id": "6a3d02a2-52d1-444e-a97f-bbecfa881355",
   "metadata": {},
   "source": [
    "PBI_visualize = QuickVisualize(get_dataset_config(dfs[0]), auth=device_auth)\n",
    "PBI_visualize"
   ]
  },
  {
   "cell_type": "markdown",
   "id": "160d7fd9-d2eb-4222-a21e-5804835b1984",
   "metadata": {},
   "source": [
    "![img](../img/gross_sales.png)"
   ]
  },
  {
   "cell_type": "markdown",
   "id": "6cf47cef-fc75-45bd-ac02-cf8439d201e6",
   "metadata": {},
   "source": [
    "#### Exemplo de Visualização: Gráfico de Barras para Descontos por Segmento"
   ]
  },
  {
   "cell_type": "code",
   "execution_count": null,
   "id": "17f7c002-b6b9-4e40-966a-c82979b9cad4",
   "metadata": {},
   "outputs": [],
   "source": [
    "PBI_visualize = QuickVisualize(get_dataset_config(dfs[1]), auth=device_auth)\n",
    "PBI_visualize"
   ]
  },
  {
   "cell_type": "markdown",
   "id": "8658ddcd-f84e-440c-b4be-73b7fb755bb6",
   "metadata": {},
   "source": [
    "![img](../img/discounts.png)"
   ]
  },
  {
   "cell_type": "markdown",
   "id": "b06ccf62-8233-4e1f-b74d-08660f627ae1",
   "metadata": {},
   "source": [
    "#### Exemplo de Visualização: Gráfico de Barras para Vendas por Segmento"
   ]
  },
  {
   "cell_type": "code",
   "execution_count": null,
   "id": "93f6e6d6-08f0-40b8-ba8e-951cff8e5c33",
   "metadata": {},
   "outputs": [],
   "source": [
    "PBI_visualize = QuickVisualize(get_dataset_config(dfs[2]), auth=device_auth)\n",
    "PBI_visualize"
   ]
  },
  {
   "cell_type": "markdown",
   "id": "d8e6e1f7-2103-42a3-8c37-fb39950ebe16",
   "metadata": {},
   "source": [
    "![img](../img/sales.png)"
   ]
  },
  {
   "cell_type": "markdown",
   "id": "2b4a3135-6ce8-4a64-a59e-7bfb46b72c5d",
   "metadata": {},
   "source": [
    "#### Exemplo de Visualização: Gráfico de Barras para Cost of Goods Sold(COGS) por Segmento"
   ]
  },
  {
   "cell_type": "code",
   "execution_count": null,
   "id": "1d256674-2315-46e3-977a-9a11206ee1b5",
   "metadata": {},
   "outputs": [],
   "source": [
    "PBI_visualize = QuickVisualize(get_dataset_config(dfs[3]), auth=device_auth)\n",
    "PBI_visualize"
   ]
  },
  {
   "cell_type": "markdown",
   "id": "1482e249-35a6-411d-9d59-9b05f8ab9e2c",
   "metadata": {},
   "source": [
    "![img](../img/cogs.png)"
   ]
  },
  {
   "cell_type": "markdown",
   "id": "5412b9ef-64ba-49b5-9a62-576dd0d4daa8",
   "metadata": {},
   "source": [
    "#### Exemplo de Visualização: Gráfico de Barras para Lucro por Segmento"
   ]
  },
  {
   "cell_type": "code",
   "execution_count": null,
   "id": "fe84bda5-8651-4771-acef-dac7d9d78875",
   "metadata": {},
   "outputs": [],
   "source": [
    "PBI_visualize = QuickVisualize(get_dataset_config(dfs[4]), auth=device_auth)\n",
    "PBI_visualize"
   ]
  },
  {
   "cell_type": "markdown",
   "id": "d0b65388-4ced-4a64-b3e8-faeeb9037eee",
   "metadata": {},
   "source": [
    "![img](../img/profit.png)"
   ]
  },
  {
   "cell_type": "markdown",
   "id": "191a9ced-9ba9-4b03-a538-e7392f36def7",
   "metadata": {},
   "source": [
    "#### Exemplo de Visualização: Gráfico de Barras para Unidades Vendidas por Segmento"
   ]
  },
  {
   "cell_type": "code",
   "execution_count": null,
   "id": "30af54bd-df02-4a8e-aa0d-04b7ad4a7a7d",
   "metadata": {},
   "outputs": [],
   "source": [
    "PBI_visualize = QuickVisualize(get_dataset_config(dfs[5]), auth=device_auth)\n",
    "PBI_visualize"
   ]
  },
  {
   "cell_type": "markdown",
   "id": "8a4324b8-2a80-4238-863d-0c72ad1cf5a5",
   "metadata": {},
   "source": [
    "![img](../img/unit_sold.png)"
   ]
  },
  {
   "cell_type": "markdown",
   "id": "09922f21-dc31-4551-9260-01b6132323b5",
   "metadata": {},
   "source": [
    "### Conclusão\n",
    "\n",
    "Neste artigo, exploramos a função DAX `SUMMARIZECOLUMNS` e como utilizá-la para criar KPIs no Power BI. Demonstramos como executar consultas DAX diretamente no Jupyter Notebook e integrar visualizações ao Power BI, proporcionando uma abordagem eficiente para análises avançadas e visualização de dados. Aproveite essas técnicas para melhorar suas habilidades em Power BI e criar dashboards cada vez mais sofisticados e informativos.\n",
    "\n",
    "### Recursos Adicionais\n",
    "\n",
    "- [Documentação Oficial do Power BI](https://docs.microsoft.com/power-bi/)\n",
    "- [Tutoriais de DAX](https://docs.microsoft.com/dax/)\n",
    "- [Biblioteca powerbiclient](https://pypi.org/project/powerbiclient/)\n"
   ]
  },
  {
   "cell_type": "code",
   "execution_count": null,
   "id": "e5110912-a9c5-4f61-9937-f1e02b9c1bbd",
   "metadata": {},
   "outputs": [],
   "source": []
  }
 ],
 "metadata": {
  "kernelspec": {
   "display_name": "Python 3 (ipykernel)",
   "language": "python",
   "name": "python3"
  },
  "language_info": {
   "codemirror_mode": {
    "name": "ipython",
    "version": 3
   },
   "file_extension": ".py",
   "mimetype": "text/x-python",
   "name": "python",
   "nbconvert_exporter": "python",
   "pygments_lexer": "ipython3",
   "version": "3.12.1"
  },
  "widgets": {
   "application/vnd.jupyter.widget-state+json": {
    "state": {},
    "version_major": 2,
    "version_minor": 0
   }
  }
 },
 "nbformat": 4,
 "nbformat_minor": 5
}
