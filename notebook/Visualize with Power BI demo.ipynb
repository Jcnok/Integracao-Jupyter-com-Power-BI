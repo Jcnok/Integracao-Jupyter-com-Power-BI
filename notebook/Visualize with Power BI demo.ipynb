{
 "cells": [
  {
   "cell_type": "markdown",
   "id": "ce1426e9",
   "metadata": {},
   "source": [
    "# Demo - Create Power BI Reports Quickly in Jupyter Notebooks\n",
    "The following notebook demonstrates how to quickly create Power BI reports from your data in Jupyter notebooks. \n",
    "The notebook will walk through the steps of authenticating to Power BI, importing and processing data, and auto-generating a Power BI report, all within the notebook.\n",
    "\n",
    "These reports can be used to explore your data, or as a starting point for creating a custom report. Interacting with the report is simple and empowers you to explore your data with just a few simple steps.\n"
   ]
  },
  {
   "cell_type": "code",
   "execution_count": 2,
   "id": "e44c1a00-3f29-4db8-8c18-d6a145875e4b",
   "metadata": {},
   "outputs": [],
   "source": [
    "from powerbiclient import QuickVisualize, get_dataset_config, Report\n",
    "from powerbiclient.authentication import DeviceCodeLoginAuthentication\n",
    "\n",
    "import pandas as pd"
   ]
  },
  {
   "cell_type": "markdown",
   "id": "784a34f9",
   "metadata": {},
   "source": [
    "### Authenticate to Power BI\n",
    "\n",
    "#### The following authentication methods can be used to authenticate the user and get the access token:\n",
    "\n",
    "- [Device flow authentication](https://msal-python.readthedocs.io/en/latest/#msal.PublicClientApplication.acquire_token_by_device_flow)\n",
    "    \n",
    "    Code snippet:\n",
    "    ``` py\n",
    "  from powerbiclient.authentication import DeviceCodeLoginAuthentication\n",
    "  device_auth = DeviceCodeLoginAuthentication()\n",
    "    ```\n",
    "- [Interactive authentication](https://msal-python.readthedocs.io/en/latest/#msal.PublicClientApplication.acquire_token_interactive)\n",
    "    \n",
    "    Code snippet:\n",
    "    ``` py\n",
    "  from powerbiclient.authentication import InteractiveLoginAuthentication\n",
    "  interactive_auth = InteractiveLoginAuthentication()    \n",
    "    ```\n",
    "\n",
    "Note: Either use auth object created or access token acquired above while creating the report instance\n"
   ]
  },
  {
   "cell_type": "markdown",
   "id": "81ce840c",
   "metadata": {},
   "source": [
    "#### Run the cell below and follow the steps in the output to obtain the auth object using the Device Flow Authentication method for the demo notebook"
   ]
  },
  {
   "cell_type": "code",
   "execution_count": 6,
   "id": "c9b1cd26",
   "metadata": {},
   "outputs": [
    {
     "name": "stdout",
     "output_type": "stream",
     "text": [
      "Performing device flow authentication. Please follow the instructions below.\n",
      "To sign in, use a web browser to open the page https://microsoft.com/devicelogin and enter the code EUDGVHLRU to authenticate.\n",
      "\n",
      "Device flow authentication successfully completed.\n",
      "You are now logged in .\n",
      "\n",
      "The result should be passed only to trusted code in your notebook.\n"
     ]
    }
   ],
   "source": [
    "device_auth = DeviceCodeLoginAuthentication()"
   ]
  },
  {
   "cell_type": "markdown",
   "id": "93c8d2fd",
   "metadata": {},
   "source": [
    "### Import and process data\n",
    "The code below is used to import a sample dataset as a pandas DataFrame and preform basic preprocessing on it. Make sure you've downloaded the sample csv file, located in the Demo folder"
   ]
  },
  {
   "cell_type": "code",
   "execution_count": 7,
   "id": "4eb1d652",
   "metadata": {},
   "outputs": [
    {
     "data": {
      "text/html": [
       "<div>\n",
       "<style scoped>\n",
       "    .dataframe tbody tr th:only-of-type {\n",
       "        vertical-align: middle;\n",
       "    }\n",
       "\n",
       "    .dataframe tbody tr th {\n",
       "        vertical-align: top;\n",
       "    }\n",
       "\n",
       "    .dataframe thead th {\n",
       "        text-align: right;\n",
       "    }\n",
       "</style>\n",
       "<table border=\"1\" class=\"dataframe\">\n",
       "  <thead>\n",
       "    <tr style=\"text-align: right;\">\n",
       "      <th></th>\n",
       "      <th>Segment</th>\n",
       "      <th>Country</th>\n",
       "      <th>Product</th>\n",
       "      <th>Discount Band</th>\n",
       "      <th>Units Sold</th>\n",
       "      <th>Manufacturing Price</th>\n",
       "      <th>Sale Price</th>\n",
       "      <th>Gross Sales</th>\n",
       "      <th>Discounts</th>\n",
       "      <th>Sales</th>\n",
       "      <th>COGS</th>\n",
       "      <th>Profit</th>\n",
       "      <th>Date</th>\n",
       "      <th>Month Number</th>\n",
       "      <th>Month Name</th>\n",
       "      <th>Year</th>\n",
       "    </tr>\n",
       "  </thead>\n",
       "  <tbody>\n",
       "    <tr>\n",
       "      <th>0</th>\n",
       "      <td>Government</td>\n",
       "      <td>Canada</td>\n",
       "      <td>Carretera</td>\n",
       "      <td>NaN</td>\n",
       "      <td>1618.5</td>\n",
       "      <td>3</td>\n",
       "      <td>20</td>\n",
       "      <td>32370.0</td>\n",
       "      <td>0.0</td>\n",
       "      <td>32370.0</td>\n",
       "      <td>16185.0</td>\n",
       "      <td>16185.0</td>\n",
       "      <td>2014-01-01</td>\n",
       "      <td>1</td>\n",
       "      <td>January</td>\n",
       "      <td>2014</td>\n",
       "    </tr>\n",
       "    <tr>\n",
       "      <th>1</th>\n",
       "      <td>Government</td>\n",
       "      <td>Germany</td>\n",
       "      <td>Carretera</td>\n",
       "      <td>NaN</td>\n",
       "      <td>1321.0</td>\n",
       "      <td>3</td>\n",
       "      <td>20</td>\n",
       "      <td>26420.0</td>\n",
       "      <td>0.0</td>\n",
       "      <td>26420.0</td>\n",
       "      <td>13210.0</td>\n",
       "      <td>13210.0</td>\n",
       "      <td>2014-01-01</td>\n",
       "      <td>1</td>\n",
       "      <td>January</td>\n",
       "      <td>2014</td>\n",
       "    </tr>\n",
       "    <tr>\n",
       "      <th>2</th>\n",
       "      <td>Midmarket</td>\n",
       "      <td>France</td>\n",
       "      <td>Carretera</td>\n",
       "      <td>NaN</td>\n",
       "      <td>2178.0</td>\n",
       "      <td>3</td>\n",
       "      <td>15</td>\n",
       "      <td>32670.0</td>\n",
       "      <td>0.0</td>\n",
       "      <td>32670.0</td>\n",
       "      <td>21780.0</td>\n",
       "      <td>10890.0</td>\n",
       "      <td>2014-06-01</td>\n",
       "      <td>6</td>\n",
       "      <td>June</td>\n",
       "      <td>2014</td>\n",
       "    </tr>\n",
       "    <tr>\n",
       "      <th>3</th>\n",
       "      <td>Midmarket</td>\n",
       "      <td>Germany</td>\n",
       "      <td>Carretera</td>\n",
       "      <td>NaN</td>\n",
       "      <td>888.0</td>\n",
       "      <td>3</td>\n",
       "      <td>15</td>\n",
       "      <td>13320.0</td>\n",
       "      <td>0.0</td>\n",
       "      <td>13320.0</td>\n",
       "      <td>8880.0</td>\n",
       "      <td>4440.0</td>\n",
       "      <td>2014-06-01</td>\n",
       "      <td>6</td>\n",
       "      <td>June</td>\n",
       "      <td>2014</td>\n",
       "    </tr>\n",
       "    <tr>\n",
       "      <th>4</th>\n",
       "      <td>Midmarket</td>\n",
       "      <td>Mexico</td>\n",
       "      <td>Carretera</td>\n",
       "      <td>NaN</td>\n",
       "      <td>2470.0</td>\n",
       "      <td>3</td>\n",
       "      <td>15</td>\n",
       "      <td>37050.0</td>\n",
       "      <td>0.0</td>\n",
       "      <td>37050.0</td>\n",
       "      <td>24700.0</td>\n",
       "      <td>12350.0</td>\n",
       "      <td>2014-06-01</td>\n",
       "      <td>6</td>\n",
       "      <td>June</td>\n",
       "      <td>2014</td>\n",
       "    </tr>\n",
       "  </tbody>\n",
       "</table>\n",
       "</div>"
      ],
      "text/plain": [
       "      Segment  Country    Product Discount Band  Units Sold  \\\n",
       "0  Government   Canada  Carretera           NaN      1618.5   \n",
       "1  Government  Germany  Carretera           NaN      1321.0   \n",
       "2   Midmarket   France  Carretera           NaN      2178.0   \n",
       "3   Midmarket  Germany  Carretera           NaN       888.0   \n",
       "4   Midmarket   Mexico  Carretera           NaN      2470.0   \n",
       "\n",
       "   Manufacturing Price  Sale Price  Gross Sales  Discounts    Sales     COGS  \\\n",
       "0                    3          20      32370.0        0.0  32370.0  16185.0   \n",
       "1                    3          20      26420.0        0.0  26420.0  13210.0   \n",
       "2                    3          15      32670.0        0.0  32670.0  21780.0   \n",
       "3                    3          15      13320.0        0.0  13320.0   8880.0   \n",
       "4                    3          15      37050.0        0.0  37050.0  24700.0   \n",
       "\n",
       "    Profit       Date  Month Number Month Name  Year  \n",
       "0  16185.0 2014-01-01             1    January  2014  \n",
       "1  13210.0 2014-01-01             1    January  2014  \n",
       "2  10890.0 2014-06-01             6       June  2014  \n",
       "3   4440.0 2014-06-01             6       June  2014  \n",
       "4  12350.0 2014-06-01             6       June  2014  "
      ]
     },
     "execution_count": 7,
     "metadata": {},
     "output_type": "execute_result"
    }
   ],
   "source": [
    "# Import sample CSV as a pandas DataFrame\n",
    "df = pd.read_excel(\"Financial Sample.xlsx\")\n",
    "\n",
    "# Display DataFrame\n",
    "df.head()"
   ]
  },
  {
   "cell_type": "code",
   "execution_count": 8,
   "id": "69edf996",
   "metadata": {},
   "outputs": [
    {
     "data": {
      "text/html": [
       "<div>\n",
       "<style scoped>\n",
       "    .dataframe tbody tr th:only-of-type {\n",
       "        vertical-align: middle;\n",
       "    }\n",
       "\n",
       "    .dataframe tbody tr th {\n",
       "        vertical-align: top;\n",
       "    }\n",
       "\n",
       "    .dataframe thead th {\n",
       "        text-align: right;\n",
       "    }\n",
       "</style>\n",
       "<table border=\"1\" class=\"dataframe\">\n",
       "  <thead>\n",
       "    <tr style=\"text-align: right;\">\n",
       "      <th></th>\n",
       "      <th>Segment</th>\n",
       "      <th>Country</th>\n",
       "      <th>Product</th>\n",
       "      <th>Discount Band</th>\n",
       "      <th>Units Sold</th>\n",
       "      <th>Manufacturing Price</th>\n",
       "      <th>Sale Price</th>\n",
       "      <th>Gross Sales</th>\n",
       "      <th>Discounts</th>\n",
       "      <th>Sales</th>\n",
       "      <th>COGS</th>\n",
       "      <th>Profit</th>\n",
       "      <th>Date</th>\n",
       "      <th>Discounted</th>\n",
       "    </tr>\n",
       "  </thead>\n",
       "  <tbody>\n",
       "    <tr>\n",
       "      <th>0</th>\n",
       "      <td>Government</td>\n",
       "      <td>Canada</td>\n",
       "      <td>Carretera</td>\n",
       "      <td></td>\n",
       "      <td>1618.5</td>\n",
       "      <td>3</td>\n",
       "      <td>20</td>\n",
       "      <td>32370.0</td>\n",
       "      <td>0.0</td>\n",
       "      <td>32370.0</td>\n",
       "      <td>16185.0</td>\n",
       "      <td>16185.0</td>\n",
       "      <td>2014-01-01</td>\n",
       "      <td>False</td>\n",
       "    </tr>\n",
       "    <tr>\n",
       "      <th>1</th>\n",
       "      <td>Government</td>\n",
       "      <td>Germany</td>\n",
       "      <td>Carretera</td>\n",
       "      <td></td>\n",
       "      <td>1321.0</td>\n",
       "      <td>3</td>\n",
       "      <td>20</td>\n",
       "      <td>26420.0</td>\n",
       "      <td>0.0</td>\n",
       "      <td>26420.0</td>\n",
       "      <td>13210.0</td>\n",
       "      <td>13210.0</td>\n",
       "      <td>2014-01-01</td>\n",
       "      <td>False</td>\n",
       "    </tr>\n",
       "    <tr>\n",
       "      <th>2</th>\n",
       "      <td>Midmarket</td>\n",
       "      <td>France</td>\n",
       "      <td>Carretera</td>\n",
       "      <td></td>\n",
       "      <td>2178.0</td>\n",
       "      <td>3</td>\n",
       "      <td>15</td>\n",
       "      <td>32670.0</td>\n",
       "      <td>0.0</td>\n",
       "      <td>32670.0</td>\n",
       "      <td>21780.0</td>\n",
       "      <td>10890.0</td>\n",
       "      <td>2014-06-01</td>\n",
       "      <td>False</td>\n",
       "    </tr>\n",
       "    <tr>\n",
       "      <th>4</th>\n",
       "      <td>Midmarket</td>\n",
       "      <td>Mexico</td>\n",
       "      <td>Carretera</td>\n",
       "      <td></td>\n",
       "      <td>2470.0</td>\n",
       "      <td>3</td>\n",
       "      <td>15</td>\n",
       "      <td>37050.0</td>\n",
       "      <td>0.0</td>\n",
       "      <td>37050.0</td>\n",
       "      <td>24700.0</td>\n",
       "      <td>12350.0</td>\n",
       "      <td>2014-06-01</td>\n",
       "      <td>False</td>\n",
       "    </tr>\n",
       "    <tr>\n",
       "      <th>5</th>\n",
       "      <td>Government</td>\n",
       "      <td>Germany</td>\n",
       "      <td>Carretera</td>\n",
       "      <td></td>\n",
       "      <td>1513.0</td>\n",
       "      <td>3</td>\n",
       "      <td>350</td>\n",
       "      <td>529550.0</td>\n",
       "      <td>0.0</td>\n",
       "      <td>529550.0</td>\n",
       "      <td>393380.0</td>\n",
       "      <td>136170.0</td>\n",
       "      <td>2014-12-01</td>\n",
       "      <td>False</td>\n",
       "    </tr>\n",
       "  </tbody>\n",
       "</table>\n",
       "</div>"
      ],
      "text/plain": [
       "      Segment  Country    Product Discount Band  Units Sold  \\\n",
       "0  Government   Canada  Carretera                    1618.5   \n",
       "1  Government  Germany  Carretera                    1321.0   \n",
       "2   Midmarket   France  Carretera                    2178.0   \n",
       "4   Midmarket   Mexico  Carretera                    2470.0   \n",
       "5  Government  Germany  Carretera                    1513.0   \n",
       "\n",
       "   Manufacturing Price  Sale Price  Gross Sales  Discounts     Sales  \\\n",
       "0                    3          20      32370.0        0.0   32370.0   \n",
       "1                    3          20      26420.0        0.0   26420.0   \n",
       "2                    3          15      32670.0        0.0   32670.0   \n",
       "4                    3          15      37050.0        0.0   37050.0   \n",
       "5                    3         350     529550.0        0.0  529550.0   \n",
       "\n",
       "       COGS    Profit       Date  Discounted  \n",
       "0   16185.0   16185.0 2014-01-01       False  \n",
       "1   13210.0   13210.0 2014-01-01       False  \n",
       "2   21780.0   10890.0 2014-06-01       False  \n",
       "4   24700.0   12350.0 2014-06-01       False  \n",
       "5  393380.0  136170.0 2014-12-01       False  "
      ]
     },
     "execution_count": 8,
     "metadata": {},
     "output_type": "execute_result"
    }
   ],
   "source": [
    "# Preprocessing - remove columns, limit to products with over 1000 units sold, and create a binary column indicating whether a product was discounted or not\n",
    "df = df.drop(['Month Number', 'Month Name', 'Year'], axis=1)\n",
    "df = df.loc[df['Units Sold'] > 1000]\n",
    "df = df.fillna('')\n",
    "df['Discounted'] = df['Discount Band'] != ''\n",
    "\n",
    "#Display updated DataFrame\n",
    "df.head()"
   ]
  },
  {
   "cell_type": "markdown",
   "id": "e7d74b55",
   "metadata": {},
   "source": [
    "### Create quick Power BI visualization\n",
    "Run the code below to use the authentication object and DataFrame obtained above to create a Power BI report and render the report to the notebook.\n",
    "The output will be an autogenerated report within a few seconds. You can interact with the report, configure the data fields, edit the report layout, and save the report to Power BI.\n",
    "\n",
    "Learn more here - [Interacting with autogenerated \"quick\" reports](https://learn.microsoft.com/en-us/power-bi/create-reports/service-interact-quick-report)\n",
    "\n",
    "To create a new report, simply run the cells below again."
   ]
  },
  {
   "cell_type": "markdown",
   "id": "07198839",
   "metadata": {},
   "source": [
    "Create a report instance:"
   ]
  },
  {
   "cell_type": "code",
   "execution_count": 9,
   "id": "40bf4ad9",
   "metadata": {},
   "outputs": [],
   "source": [
    "# Create a Power BI report from your data\n",
    "PBI_visualize = QuickVisualize(get_dataset_config(df), auth=device_auth)"
   ]
  },
  {
   "cell_type": "markdown",
   "id": "7c440583",
   "metadata": {},
   "source": [
    "### Power BI event handlers"
   ]
  },
  {
   "cell_type": "markdown",
   "id": "9a0b58be",
   "metadata": {},
   "source": [
    "#### Set quick visualization loaded event handler"
   ]
  },
  {
   "cell_type": "code",
   "execution_count": 10,
   "id": "8690985f",
   "metadata": {},
   "outputs": [],
   "source": [
    "def loaded_callback(event_details):\n",
    "    print('Quick visualize has loaded')\n",
    "\n",
    "PBI_visualize.on('loaded', loaded_callback)"
   ]
  },
  {
   "cell_type": "markdown",
   "id": "c5f1fc92",
   "metadata": {},
   "source": [
    "#### Set quick visualization rendered event handler"
   ]
  },
  {
   "cell_type": "code",
   "execution_count": 11,
   "id": "7493d09e",
   "metadata": {},
   "outputs": [],
   "source": [
    "def rendered_callback(event_details):\n",
    "    print('Quick visualize has rendered')\n",
    "\n",
    "PBI_visualize.on('rendered', rendered_callback)"
   ]
  },
  {
   "cell_type": "markdown",
   "id": "93e2ffef",
   "metadata": {},
   "source": [
    "#### Set quick visualization saved event handler"
   ]
  },
  {
   "cell_type": "code",
   "execution_count": 12,
   "id": "1a8e6f86",
   "metadata": {},
   "outputs": [],
   "source": [
    "def saved_callback(event_details):\n",
    "    print('Quick visualize has saved the report')\n",
    "\n",
    "PBI_visualize.on('saved', saved_callback)"
   ]
  },
  {
   "cell_type": "code",
   "execution_count": 51,
   "id": "bb3d0946",
   "metadata": {},
   "outputs": [
    {
     "data": {
      "application/vnd.jupyter.widget-view+json": {
       "model_id": "9102e82aaf184c06a4c8409cf5159c2b",
       "version_major": 2,
       "version_minor": 0
      },
      "text/plain": [
       "QuickVisualize(container_height=400.0, container_width=600.0)"
      ]
     },
     "metadata": {},
     "output_type": "display_data"
    }
   ],
   "source": [
    "# Render new report\n",
    "PBI_visualize"
   ]
  },
  {
   "cell_type": "markdown",
   "id": "4784dc27",
   "metadata": {},
   "source": [
    "### Configure report size\n",
    "Run the following code to configure the size of the embedded report output, to ensure the best fit in your notebook."
   ]
  },
  {
   "cell_type": "code",
   "execution_count": 21,
   "id": "4c6b6c85",
   "metadata": {},
   "outputs": [],
   "source": [
    "# Set new width and height for the container\n",
    "PBI_visualize.set_size(400, 600)"
   ]
  },
  {
   "cell_type": "markdown",
   "id": "0fb09069",
   "metadata": {},
   "source": [
    "### Load saved report\n",
    "Once you're happy with your report, you can either keep it in the notebook, or save it to Power BI. The code block below demonstrates how to load the report again using the Power BI library after you've saved it. This can be done as long as the kernel is still active. \n",
    "Alternatively, you can load any report using the group_id and report_id parameters, as explained [here](https://github.com/microsoft/powerbi-jupyter/blob/main/DOCUMENTATION.md#__init__-report)."
   ]
  },
  {
   "cell_type": "code",
   "execution_count": null,
   "id": "81eb2feb-4d0a-45a1-a5c3-b91cc75a57fb",
   "metadata": {},
   "outputs": [],
   "source": [
    "# Set new access token to the embedded report\n",
    "report.set_access_token(access_token)"
   ]
  },
  {
   "cell_type": "code",
   "execution_count": 22,
   "id": "f8d98143-9002-433a-a683-66438bf33fba",
   "metadata": {},
   "outputs": [],
   "source": [
    "# Set report container's height and width using report object\n",
    "report.set_size(400, 600)"
   ]
  },
  {
   "cell_type": "code",
   "execution_count": 23,
   "id": "acdd0d0e-7957-4fda-b8ad-006786bad051",
   "metadata": {},
   "outputs": [],
   "source": [
    "# Get the list of pages from embedded report\n",
    "pages = report.get_pages()"
   ]
  },
  {
   "cell_type": "code",
   "execution_count": 24,
   "id": "c1ab424a-1ce1-4562-a899-11abe1c06a0d",
   "metadata": {},
   "outputs": [
    {
     "data": {
      "text/plain": [
       "[{'name': '42504ed343a8e80b816b',\n",
       "  'displayName': 'Página 1',\n",
       "  'isActive': True,\n",
       "  'visibility': 0,\n",
       "  'defaultSize': {'type': 0, 'width': 1280, 'height': 720},\n",
       "  'mobileSize': None,\n",
       "  'defaultDisplayOption': 0,\n",
       "  'background': {'color': '#FFFFFF', 'transparency': 100, 'hasImage': False},\n",
       "  'wallpaper': {'color': '#FFFFFF', 'transparency': 0, 'hasImage': False}}]"
      ]
     },
     "execution_count": 24,
     "metadata": {},
     "output_type": "execute_result"
    }
   ],
   "source": [
    "pages"
   ]
  },
  {
   "cell_type": "code",
   "execution_count": 25,
   "id": "ed1271df-ee16-45c7-8261-1933a67a5b8c",
   "metadata": {},
   "outputs": [],
   "source": [
    "# Get the list of visuals on a page\n",
    "page_name = '42504ed343a8e80b816b'\n",
    "visuals = report.visuals_on_page(page_name)"
   ]
  },
  {
   "cell_type": "code",
   "execution_count": 26,
   "id": "9b7e9471-483c-4f88-8cf9-88620bc2318a",
   "metadata": {},
   "outputs": [
    {
     "data": {
      "text/plain": [
       "[{'name': '9b204eebe9082f3480d2',\n",
       "  'title': 'Soma de Units Sold por Ano e Mês',\n",
       "  'type': 'lineChart',\n",
       "  'layout': {'x': 20,\n",
       "   'y': 96,\n",
       "   'z': 9000,\n",
       "   'width': 606,\n",
       "   'height': 458,\n",
       "   'displayState': {'mode': 0}}},\n",
       " {'name': '5b9dfc17190b12dfb05e',\n",
       "  'title': 'Soma de Discounts por Ano e Mês',\n",
       "  'type': 'lineChart',\n",
       "  'layout': {'x': 654,\n",
       "   'y': 96,\n",
       "   'z': 7000,\n",
       "   'width': 606,\n",
       "   'height': 282,\n",
       "   'displayState': {'mode': 0}}},\n",
       " {'name': 'aba66c18b2c05e25455e',\n",
       "  'title': 'Soma de COGS por Ano e Mês',\n",
       "  'type': 'lineChart',\n",
       "  'layout': {'x': 654,\n",
       "   'y': 414,\n",
       "   'z': 6000,\n",
       "   'width': 289,\n",
       "   'height': 282,\n",
       "   'displayState': {'mode': 0}}},\n",
       " {'name': '7900eb3e9fdb6abe2218',\n",
       "  'title': 'Soma de Gross Sales por Ano e Mês',\n",
       "  'type': 'lineChart',\n",
       "  'layout': {'x': 971,\n",
       "   'y': 414,\n",
       "   'z': 5000,\n",
       "   'width': 289,\n",
       "   'height': 282,\n",
       "   'displayState': {'mode': 0}}},\n",
       " {'name': '5dbb3772bc6c59b16d20',\n",
       "  'title': 'Forma',\n",
       "  'type': 'shape',\n",
       "  'layout': {'x': 12,\n",
       "   'y': 84,\n",
       "   'z': 1000,\n",
       "   'width': 622,\n",
       "   'height': 624,\n",
       "   'displayState': {'mode': 0}}},\n",
       " {'name': 'f9d42364cd5d0249953a',\n",
       "  'title': 'Caixa de texto',\n",
       "  'type': 'textbox',\n",
       "  'layout': {'x': 20,\n",
       "   'y': 566,\n",
       "   'z': 8000,\n",
       "   'width': 606,\n",
       "   'height': 129,\n",
       "   'displayState': {'mode': 0}}},\n",
       " {'name': '84a5d6e5df5a9ebbe82b',\n",
       "  'title': 'Forma',\n",
       "  'type': 'shape',\n",
       "  'layout': {'x': 646,\n",
       "   'y': 84,\n",
       "   'z': 2000,\n",
       "   'width': 622,\n",
       "   'height': 306,\n",
       "   'displayState': {'mode': 0}}},\n",
       " {'name': '266b07ddda58947b18ca',\n",
       "  'title': 'Forma',\n",
       "  'type': 'shape',\n",
       "  'layout': {'x': 646,\n",
       "   'y': 402,\n",
       "   'z': 3000,\n",
       "   'width': 305,\n",
       "   'height': 306,\n",
       "   'displayState': {'mode': 0}}},\n",
       " {'name': 'c9fb6d359dc0d999ac23',\n",
       "  'title': 'Forma',\n",
       "  'type': 'shape',\n",
       "  'layout': {'x': 963,\n",
       "   'y': 402,\n",
       "   'z': 4000,\n",
       "   'width': 305,\n",
       "   'height': 306,\n",
       "   'displayState': {'mode': 0}}},\n",
       " {'name': '91cc35bc43bcd858b0e3',\n",
       "  'title': 'Caixa de texto',\n",
       "  'type': 'textbox',\n",
       "  'layout': {'x': 12,\n",
       "   'y': 2,\n",
       "   'z': 15000,\n",
       "   'width': 306,\n",
       "   'height': 39,\n",
       "   'displayState': {'mode': 0}}},\n",
       " {'name': '220026a57f5e3fb6b22d',\n",
       "  'title': 'Caixa de texto',\n",
       "  'type': 'textbox',\n",
       "  'layout': {'x': 12,\n",
       "   'y': 33,\n",
       "   'z': 14000,\n",
       "   'width': 306,\n",
       "   'height': 32,\n",
       "   'displayState': {'mode': 0}}},\n",
       " {'name': '047e58cdb1ea5575cf28',\n",
       "  'title': 'Cartão de linha múltipla',\n",
       "  'type': 'multiRowCard',\n",
       "  'layout': {'x': 436,\n",
       "   'y': 12,\n",
       "   'z': 13000,\n",
       "   'width': 199,\n",
       "   'height': 50,\n",
       "   'displayState': {'mode': 0}}},\n",
       " {'name': '826f58bb3737ad223349',\n",
       "  'title': 'Cartão de linha múltipla',\n",
       "  'type': 'multiRowCard',\n",
       "  'layout': {'x': 647,\n",
       "   'y': 12,\n",
       "   'z': 12000,\n",
       "   'width': 199,\n",
       "   'height': 50,\n",
       "   'displayState': {'mode': 0}}},\n",
       " {'name': '8b86b6573ad7303aae8c',\n",
       "  'title': 'Cartão de linha múltipla',\n",
       "  'type': 'multiRowCard',\n",
       "  'layout': {'x': 858,\n",
       "   'y': 12,\n",
       "   'z': 11000,\n",
       "   'width': 199,\n",
       "   'height': 50,\n",
       "   'displayState': {'mode': 0}}},\n",
       " {'name': '1c129742dca96ad8b1a3',\n",
       "  'title': 'Cartão de linha múltipla',\n",
       "  'type': 'multiRowCard',\n",
       "  'layout': {'x': 1069,\n",
       "   'y': 12,\n",
       "   'z': 10000,\n",
       "   'width': 199,\n",
       "   'height': 50,\n",
       "   'displayState': {'mode': 0}}},\n",
       " {'name': '332ae25b365915d106d6',\n",
       "  'title': 'Forma',\n",
       "  'type': 'shape',\n",
       "  'layout': {'x': 12,\n",
       "   'y': 58,\n",
       "   'z': 0,\n",
       "   'width': 1256,\n",
       "   'height': 26,\n",
       "   'displayState': {'mode': 0}}}]"
      ]
     },
     "execution_count": 26,
     "metadata": {},
     "output_type": "execute_result"
    }
   ],
   "source": [
    "visuals"
   ]
  },
  {
   "cell_type": "code",
   "execution_count": 29,
   "id": "401aee00-a62e-42c6-b7ce-6c6bece7f0d5",
   "metadata": {},
   "outputs": [],
   "source": [
    "# Defina a consulta DAX\n",
    "query = \"\"\"\n",
    "EVALUATE\n",
    "CALCULATE(\n",
    "    SUM(Sales[Amount]),\n",
    "    FILTER(Sales, Sales[Region] = \"North\")\n",
    ")\n",
    "\"\"\""
   ]
  },
  {
   "cell_type": "code",
   "execution_count": 31,
   "id": "38f853ff-fe33-4a64-bea5-274cffe8b489",
   "metadata": {},
   "outputs": [
    {
     "ename": "AttributeError",
     "evalue": "'Report' object has no attribute 'get_dataset_values'",
     "output_type": "error",
     "traceback": [
      "\u001b[0;31m---------------------------------------------------------------------------\u001b[0m",
      "\u001b[0;31mAttributeError\u001b[0m                            Traceback (most recent call last)",
      "Cell \u001b[0;32mIn[31], line 1\u001b[0m\n\u001b[0;32m----> 1\u001b[0m \u001b[43mreport\u001b[49m\u001b[38;5;241;43m.\u001b[39;49m\u001b[43mget_dataset_values\u001b[49m(query)\n",
      "\u001b[0;31mAttributeError\u001b[0m: 'Report' object has no attribute 'get_dataset_values'"
     ]
    }
   ],
   "source": [
    "report."
   ]
  },
  {
   "cell_type": "code",
   "execution_count": 34,
   "id": "9a1b8596",
   "metadata": {},
   "outputs": [],
   "source": [
    "report = PBI_visualize.get_saved_report()"
   ]
  },
  {
   "cell_type": "markdown",
   "id": "a0642fc7",
   "metadata": {},
   "source": [
    "### Load report in output cell"
   ]
  },
  {
   "cell_type": "code",
   "execution_count": 35,
   "id": "9019759c",
   "metadata": {},
   "outputs": [
    {
     "data": {
      "application/vnd.jupyter.widget-view+json": {
       "model_id": "ed712b8001b44f79b7f6e070e2783408",
       "version_major": 2,
       "version_minor": 0
      },
      "text/plain": [
       "Report(container_height=400.0, container_width=600.0)"
      ]
     },
     "metadata": {},
     "output_type": "display_data"
    }
   ],
   "source": [
    "#render report \n",
    "report"
   ]
  },
  {
   "cell_type": "markdown",
   "id": "014b1574",
   "metadata": {},
   "source": [
    "You can interact with this report as part of your notebook. To learn more, visit our [documentation](https://github.com/microsoft/powerbi-jupyter/blob/main/DOCUMENTATION.md#PowerBI-report-embedding-widget) or the report embedding [demo](https://github.com/microsoft/powerbi-jupyter/blob/main/demo/Embed%20Power%20BI%20report%20demo.ipynb)."
   ]
  },
  {
   "cell_type": "markdown",
   "id": "d96fbcaa-1717-41d5-9b7c-a41be65e8411",
   "metadata": {},
   "source": [
    "Argumentos :\n",
    "\n",
    "group_id string - Opcional. ID do espaço de trabalho do Power BI onde reside o seu relatório. Se o valor não for fornecido, Meu espaço de trabalho será usado.\n",
    "\n",
    "report_id string - Opcional. ID do relatório do Power BI. Deve ser fornecido para visualizar ou editar um relatório existente.\n",
    "\n",
    "auth objeto - Opcional. Temos 3 opções de autenticação para incorporar um relatório do Power BI:\n",
    "\n",
    "Token de acesso (string)\n",
    "Objeto de autenticação (objeto) - instância de AuthenticationResult (DeviceCodeLoginAuthentication ou InteractiveLoginAuthentication)\n",
    "Se não for fornecido, o usuário do Power BI será autenticado usando a autenticação Device Flow\n",
    "view_mode número - Opcional. Modo para incorporar relatório do Power BI (VIEW: 0, EDIT: 1, CREATE: 2). A ser fornecido caso o usuário queira editar ou criar um relatório. (Padrão = VER)\n",
    "\n",
    "permissions número - Opcional. Permissões necessárias ao incorporar o relatório no modo EDIT. Ignorado no modo VIEW ou CREATE.\n",
    "\n",
    "Valores para permissões:\n",
    "\n",
    "READWRITE- Os usuários podem visualizar, editar e salvar o relatório.\n",
    "COPY- Os usuários podem salvar uma cópia do relatório usando Salvar como.\n",
    "ALL- Os usuários podem criar, visualizar, editar, salvar e salvar uma cópia do relatório.\n",
    "dataset_id string - Opcional. Crie um novo relatório usando esse conjunto de dados no espaço de trabalho fornecido do Power BI. Deve ser fornecido para criar um novo relatório a partir de um conjunto de dados existente se report_id não for fornecido."
   ]
  },
  {
   "cell_type": "code",
   "execution_count": 42,
   "id": "3f7f98f6-9f2c-4b25-b135-5ca7b269485b",
   "metadata": {},
   "outputs": [],
   "source": [
    "# report \n",
    "# group_id=\"me\" # vá no pbi online em configurações/portal de administração/workspaces/detalhes \n",
    "report_id=\"2f5f4214-6f64-4541-8b9b-41afc4fd7438\" # abra o relatório clique em arquivo/inserir relatório/site ou portal/ copie o link e localize o reportID.\n",
    "report = Report(report_id=report_id, auth=device_auth)\n",
    "# Alterar a dimensão do report\n",
    "report.set_size(800, 1600)"
   ]
  },
  {
   "cell_type": "code",
   "execution_count": 43,
   "id": "1edc003a-291d-4f85-b341-6544548d892a",
   "metadata": {},
   "outputs": [
    {
     "data": {
      "application/vnd.jupyter.widget-view+json": {
       "model_id": "4ccd3581b0a942709693a303dfcf5432",
       "version_major": 2,
       "version_minor": 0
      },
      "text/plain": [
       "Report(container_height=800.0, container_width=1600.0)"
      ]
     },
     "metadata": {},
     "output_type": "display_data"
    }
   ],
   "source": [
    "report"
   ]
  },
  {
   "cell_type": "code",
   "execution_count": null,
   "id": "cdc1f35b-850a-4a90-9f64-8cc0ce2857d0",
   "metadata": {},
   "outputs": [],
   "source": []
  }
 ],
 "metadata": {
  "kernelspec": {
   "display_name": "Python 3 (ipykernel)",
   "language": "python",
   "name": "python3"
  },
  "language_info": {
   "codemirror_mode": {
    "name": "ipython",
    "version": 3
   },
   "file_extension": ".py",
   "mimetype": "text/x-python",
   "name": "python",
   "nbconvert_exporter": "python",
   "pygments_lexer": "ipython3",
   "version": "3.12.1"
  },
  "toc-autonumbering": true,
  "varInspector": {
   "cols": {
    "lenName": 16,
    "lenType": 16,
    "lenVar": 40
   },
   "kernels_config": {
    "python": {
     "delete_cmd_postfix": "",
     "delete_cmd_prefix": "del ",
     "library": "var_list.py",
     "varRefreshCmd": "print(var_dic_list())"
    },
    "r": {
     "delete_cmd_postfix": ") ",
     "delete_cmd_prefix": "rm(",
     "library": "var_list.r",
     "varRefreshCmd": "cat(var_dic_list()) "
    }
   },
   "types_to_exclude": [
    "module",
    "function",
    "builtin_function_or_method",
    "instance",
    "_Feature"
   ],
   "window_display": false
  }
 },
 "nbformat": 4,
 "nbformat_minor": 5
}
