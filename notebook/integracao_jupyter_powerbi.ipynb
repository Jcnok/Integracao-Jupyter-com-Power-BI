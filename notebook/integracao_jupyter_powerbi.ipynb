{
 "cells": [
  {
   "cell_type": "markdown",
   "id": "6cbed0bf-1348-4451-90ac-3224d82bd3c2",
   "metadata": {},
   "source": [
    "## Passo 1: Instalação da Biblioteca\n",
    "\n",
    "Antes de mergulhar de cabeça na integração, é necessário instalar a biblioteca Power BI para Python. Você pode fazer isso facilmente executando o seguinte comando no seu Jupyter Notebook:"
   ]
  },
  {
   "cell_type": "code",
   "execution_count": 1,
   "id": "0bae1bd4-7661-4122-89b6-7f7e9a6f00df",
   "metadata": {},
   "outputs": [
    {
     "name": "stdout",
     "output_type": "stream",
     "text": [
      "The following packages are already present in the pyproject.toml and will be skipped:\n",
      "\n",
      "  • \u001b[36minstall\u001b[39m\n",
      "  • \u001b[36mpowerbiclient\u001b[39m\n",
      "\n",
      "If you want to update it to the latest compatible version, you can use `poetry update package`.\n",
      "If you prefer to upgrade it to the latest available version, you can use `poetry add package@latest`.\n",
      "\n",
      "Nothing to add.\n"
     ]
    }
   ],
   "source": [
    "!poetry add install powerbiclient"
   ]
  },
  {
   "cell_type": "markdown",
   "id": "961d0d43-d9cb-46df-a018-d557b9bf5024",
   "metadata": {},
   "source": [
    "## Passo 2: Carregando as Bibliotecas Necessárias\n",
    "\n",
    "Depois de instalar a biblioteca Power BI, importe as bibliotecas necessárias no seu notebook:"
   ]
  },
  {
   "cell_type": "code",
   "execution_count": 1,
   "id": "797d4247-b102-442d-8974-32be6be3ca39",
   "metadata": {},
   "outputs": [],
   "source": [
    "from powerbiclient import QuickVisualize, get_dataset_config, Report\n",
    "from powerbiclient.authentication import DeviceCodeLoginAuthentication\n",
    "import pandas as pd"
   ]
  },
  {
   "cell_type": "markdown",
   "id": "0c98c6ae-bf39-4c8c-8687-1d2177026588",
   "metadata": {},
   "source": [
    "## Passo 3: Carregando os Dados\n",
    "\n",
    "Carregar seus dados é um passo fundamental. Neste exemplo, carregamos um arquivo Excel como um DataFrame:"
   ]
  },
  {
   "cell_type": "code",
   "execution_count": 2,
   "id": "1ef89ec2-74cd-4673-aeda-3c67eb364f3c",
   "metadata": {},
   "outputs": [],
   "source": [
    "!poetry add openpyxl -q"
   ]
  },
  {
   "cell_type": "code",
   "execution_count": 2,
   "id": "87ec9d7c-29f3-451b-ba9a-a40d4046122b",
   "metadata": {},
   "outputs": [],
   "source": [
    "df = pd.read_excel('Financial Sample.xlsx')  # Certifique-se de que o arquivo esteja no diretório raiz"
   ]
  },
  {
   "cell_type": "markdown",
   "id": "b64ca33c-6121-4f84-83f1-46ab5634a729",
   "metadata": {},
   "source": [
    "### Visualizando as 5 primeiras linhas do dataframe.\n",
    "\n"
   ]
  },
  {
   "cell_type": "code",
   "execution_count": 3,
   "id": "83c4e319-cde4-4dc4-9a2f-b4e706c2a2e5",
   "metadata": {},
   "outputs": [
    {
     "data": {
      "text/html": [
       "<div>\n",
       "<style scoped>\n",
       "    .dataframe tbody tr th:only-of-type {\n",
       "        vertical-align: middle;\n",
       "    }\n",
       "\n",
       "    .dataframe tbody tr th {\n",
       "        vertical-align: top;\n",
       "    }\n",
       "\n",
       "    .dataframe thead th {\n",
       "        text-align: right;\n",
       "    }\n",
       "</style>\n",
       "<table border=\"1\" class=\"dataframe\">\n",
       "  <thead>\n",
       "    <tr style=\"text-align: right;\">\n",
       "      <th></th>\n",
       "      <th>Segment</th>\n",
       "      <th>Country</th>\n",
       "      <th>Product</th>\n",
       "      <th>Discount Band</th>\n",
       "      <th>Units Sold</th>\n",
       "      <th>Manufacturing Price</th>\n",
       "      <th>Sale Price</th>\n",
       "      <th>Gross Sales</th>\n",
       "      <th>Discounts</th>\n",
       "      <th>Sales</th>\n",
       "      <th>COGS</th>\n",
       "      <th>Profit</th>\n",
       "      <th>Date</th>\n",
       "      <th>Month Number</th>\n",
       "      <th>Month Name</th>\n",
       "      <th>Year</th>\n",
       "    </tr>\n",
       "  </thead>\n",
       "  <tbody>\n",
       "    <tr>\n",
       "      <th>0</th>\n",
       "      <td>Government</td>\n",
       "      <td>Canada</td>\n",
       "      <td>Carretera</td>\n",
       "      <td>NaN</td>\n",
       "      <td>1618.5</td>\n",
       "      <td>3</td>\n",
       "      <td>20</td>\n",
       "      <td>32370.0</td>\n",
       "      <td>0.0</td>\n",
       "      <td>32370.0</td>\n",
       "      <td>16185.0</td>\n",
       "      <td>16185.0</td>\n",
       "      <td>2014-01-01</td>\n",
       "      <td>1</td>\n",
       "      <td>January</td>\n",
       "      <td>2014</td>\n",
       "    </tr>\n",
       "    <tr>\n",
       "      <th>1</th>\n",
       "      <td>Government</td>\n",
       "      <td>Germany</td>\n",
       "      <td>Carretera</td>\n",
       "      <td>NaN</td>\n",
       "      <td>1321.0</td>\n",
       "      <td>3</td>\n",
       "      <td>20</td>\n",
       "      <td>26420.0</td>\n",
       "      <td>0.0</td>\n",
       "      <td>26420.0</td>\n",
       "      <td>13210.0</td>\n",
       "      <td>13210.0</td>\n",
       "      <td>2014-01-01</td>\n",
       "      <td>1</td>\n",
       "      <td>January</td>\n",
       "      <td>2014</td>\n",
       "    </tr>\n",
       "    <tr>\n",
       "      <th>2</th>\n",
       "      <td>Midmarket</td>\n",
       "      <td>France</td>\n",
       "      <td>Carretera</td>\n",
       "      <td>NaN</td>\n",
       "      <td>2178.0</td>\n",
       "      <td>3</td>\n",
       "      <td>15</td>\n",
       "      <td>32670.0</td>\n",
       "      <td>0.0</td>\n",
       "      <td>32670.0</td>\n",
       "      <td>21780.0</td>\n",
       "      <td>10890.0</td>\n",
       "      <td>2014-06-01</td>\n",
       "      <td>6</td>\n",
       "      <td>June</td>\n",
       "      <td>2014</td>\n",
       "    </tr>\n",
       "    <tr>\n",
       "      <th>3</th>\n",
       "      <td>Midmarket</td>\n",
       "      <td>Germany</td>\n",
       "      <td>Carretera</td>\n",
       "      <td>NaN</td>\n",
       "      <td>888.0</td>\n",
       "      <td>3</td>\n",
       "      <td>15</td>\n",
       "      <td>13320.0</td>\n",
       "      <td>0.0</td>\n",
       "      <td>13320.0</td>\n",
       "      <td>8880.0</td>\n",
       "      <td>4440.0</td>\n",
       "      <td>2014-06-01</td>\n",
       "      <td>6</td>\n",
       "      <td>June</td>\n",
       "      <td>2014</td>\n",
       "    </tr>\n",
       "    <tr>\n",
       "      <th>4</th>\n",
       "      <td>Midmarket</td>\n",
       "      <td>Mexico</td>\n",
       "      <td>Carretera</td>\n",
       "      <td>NaN</td>\n",
       "      <td>2470.0</td>\n",
       "      <td>3</td>\n",
       "      <td>15</td>\n",
       "      <td>37050.0</td>\n",
       "      <td>0.0</td>\n",
       "      <td>37050.0</td>\n",
       "      <td>24700.0</td>\n",
       "      <td>12350.0</td>\n",
       "      <td>2014-06-01</td>\n",
       "      <td>6</td>\n",
       "      <td>June</td>\n",
       "      <td>2014</td>\n",
       "    </tr>\n",
       "  </tbody>\n",
       "</table>\n",
       "</div>"
      ],
      "text/plain": [
       "      Segment  Country    Product Discount Band  Units Sold  \\\n",
       "0  Government   Canada  Carretera           NaN      1618.5   \n",
       "1  Government  Germany  Carretera           NaN      1321.0   \n",
       "2   Midmarket   France  Carretera           NaN      2178.0   \n",
       "3   Midmarket  Germany  Carretera           NaN       888.0   \n",
       "4   Midmarket   Mexico  Carretera           NaN      2470.0   \n",
       "\n",
       "   Manufacturing Price  Sale Price  Gross Sales  Discounts    Sales     COGS  \\\n",
       "0                    3          20      32370.0        0.0  32370.0  16185.0   \n",
       "1                    3          20      26420.0        0.0  26420.0  13210.0   \n",
       "2                    3          15      32670.0        0.0  32670.0  21780.0   \n",
       "3                    3          15      13320.0        0.0  13320.0   8880.0   \n",
       "4                    3          15      37050.0        0.0  37050.0  24700.0   \n",
       "\n",
       "    Profit       Date  Month Number Month Name  Year  \n",
       "0  16185.0 2014-01-01             1    January  2014  \n",
       "1  13210.0 2014-01-01             1    January  2014  \n",
       "2  10890.0 2014-06-01             6       June  2014  \n",
       "3   4440.0 2014-06-01             6       June  2014  \n",
       "4  12350.0 2014-06-01             6       June  2014  "
      ]
     },
     "execution_count": 3,
     "metadata": {},
     "output_type": "execute_result"
    }
   ],
   "source": [
    "df.head()"
   ]
  },
  {
   "cell_type": "markdown",
   "id": "6c6a5add-bf55-4e33-ae89-b56041cf0708",
   "metadata": {},
   "source": [
    "## Passo 4: Autenticação com a Conta do Power BI\n",
    "\n",
    "Para interagir com o Power BI, você precisa autenticar sua conta. Utilizaremos a autenticação com código de dispositivo, o que torna o processo seguro e conveniente:"
   ]
  },
  {
   "cell_type": "code",
   "execution_count": 4,
   "id": "b8c7101e-e10e-4fe9-8452-2d44ff628dbb",
   "metadata": {},
   "outputs": [
    {
     "name": "stdout",
     "output_type": "stream",
     "text": [
      "Performing device flow authentication. Please follow the instructions below.\n",
      "To sign in, use a web browser to open the page https://microsoft.com/devicelogin and enter the code EER5ZCCXQ to authenticate.\n",
      "\n",
      "Device flow authentication successfully completed.\n",
      "You are now logged in .\n",
      "\n",
      "The result should be passed only to trusted code in your notebook.\n"
     ]
    }
   ],
   "source": [
    "device_auth = DeviceCodeLoginAuthentication()"
   ]
  },
  {
   "cell_type": "markdown",
   "id": "129a395c-8cca-4c7d-9e54-543a23f2cd10",
   "metadata": {},
   "source": [
    "Siga as instruções para copiar o código gerado e cole-o após acessar o link fornecido. Isso autentica sua conta do Power BI."
   ]
  },
  {
   "cell_type": "markdown",
   "id": "9c7e0303-f617-451b-aa35-9120d99d5544",
   "metadata": {},
   "source": [
    "## Passo 5: Visualizando seus Dados no Power BI\n",
    "\n",
    "Agora que seus dados estão prontos e você está autenticado, é hora de criar visualizações no Power BI. O código a seguir faz exatamente isso:"
   ]
  },
  {
   "cell_type": "code",
   "execution_count": 5,
   "id": "c5fceee4-e0f8-4fd9-9e3d-a5381b64a2be",
   "metadata": {},
   "outputs": [],
   "source": [
    "PBI_visualize = QuickVisualize(get_dataset_config(df), auth=device_auth)"
   ]
  },
  {
   "cell_type": "markdown",
   "id": "aaf5640f-d9c4-49f1-91f4-1b60038de789",
   "metadata": {},
   "source": [
    "## Passo 6: Renderizando o Relatório\n",
    "\n",
    "Agora você pode renderizar o relatório diretamente no Jupyter Notebook:"
   ]
  },
  {
   "cell_type": "code",
   "execution_count": 6,
   "id": "3011b961-2580-4427-9f0e-b92fab24ea04",
   "metadata": {},
   "outputs": [
    {
     "data": {
      "application/vnd.jupyter.widget-view+json": {
       "model_id": "c6f7ba7b3d2c4928b9b95df9bfd81afd",
       "version_major": 2,
       "version_minor": 0
      },
      "text/plain": [
       "QuickVisualize()"
      ]
     },
     "metadata": {},
     "output_type": "display_data"
    }
   ],
   "source": [
    "PBI_visualize"
   ]
  },
  {
   "cell_type": "code",
   "execution_count": 10,
   "id": "a8c5e0bc-f6ac-4ff0-b303-8b74925b77fe",
   "metadata": {},
   "outputs": [],
   "source": [
    "# Credenciais do Power BI\n",
    "group_id=\"24041EF3-E463-4027-A5E6-85DFF3296BF9\"\n",
    "report_id=\"c252dcb3-8f09-4285-9f09-096a6d814147\""
   ]
  },
  {
   "cell_type": "code",
   "execution_count": 15,
   "id": "d195d2e4-4964-4eb8-bed7-97f12e15d3b5",
   "metadata": {},
   "outputs": [],
   "source": [
    "# Instantiate report object with authentication object (e.g DeviceCodeLoginAuthentication)\n",
    "report = Report(group_id=group_id, report_id=report_id, auth=device_auth)"
   ]
  },
  {
   "cell_type": "raw",
   "id": "7b9c46fe-000f-4d8e-9713-eb209e012a6e",
   "metadata": {},
   "source": [
    "#Necessário instalar caso ocorram problemas segundo o link https://github.com/matplotlib/ipympl/issues/112:\n",
    "pip install jupyterlab\n",
    "pip install ipympl\n",
    "curl -sL https://deb.nodesource.com/setup_12.x | bash -\n",
    "apt install nodejs\n",
    "jupyter labextension install @jupyter-widgets/jupyterlab-manager\n",
    "jupyter labextension install jupyter-matplotlib"
   ]
  },
  {
   "cell_type": "raw",
   "id": "b21bbbe0-c0cd-411c-800f-5ad804b9d0e8",
   "metadata": {},
   "source": [
    "# o que eu fiz no terminal .env para que o embed funcionasse corretamente:\n",
    "$ sudo apt install npm\n",
    "$ jupyter labextension install @jupyter-widgets/jupyterlab-manager jupyter-matplotlib"
   ]
  },
  {
   "cell_type": "code",
   "execution_count": null,
   "id": "ae077be8-6cb7-4f1b-b775-c144250e6604",
   "metadata": {},
   "outputs": [],
   "source": [
    "!pip install --upgrade pip\n",
    "!pip install -U jupyterlab ipywidgets jupyterlab-widgets"
   ]
  },
  {
   "cell_type": "code",
   "execution_count": null,
   "id": "91dd7ac5-f5cd-41e7-917a-086293e51ee5",
   "metadata": {},
   "outputs": [],
   "source": [
    "!pip install ipympl==0.9.3"
   ]
  },
  {
   "cell_type": "code",
   "execution_count": 9,
   "id": "24f3011c-f800-4d86-830d-4fbdef3bd234",
   "metadata": {},
   "outputs": [
    {
     "name": "stdout",
     "output_type": "stream",
     "text": [
      "Using version \u001b[39;1m^2.2.2\u001b[39;22m for \u001b[36mpandas\u001b[39m\n",
      "\n",
      "\u001b[34mUpdating dependencies\u001b[39m\n",
      "\u001b[2K\u001b[34mResolving dependencies...\u001b[39m \u001b[39;2m(0.9s)\u001b[39;22m\n",
      "\n",
      "No dependencies to install or update\n",
      "\n",
      "\u001b[34mWriting lock file\u001b[39m\n"
     ]
    }
   ],
   "source": [
    "!poetry add pandas"
   ]
  },
  {
   "cell_type": "code",
   "execution_count": 10,
   "id": "cbacc81e-44c2-445b-9c70-b4ea122bc544",
   "metadata": {},
   "outputs": [
    {
     "name": "stdout",
     "output_type": "stream",
     "text": [
      "Requirement already satisfied: jupyterlab-widgets==1.1.1 in /home/jcnok/bootcamps/competicao_DIO/Integracao-Jupyter-com-Power-BI/.venv/lib/python3.12/site-packages (1.1.1)\n"
     ]
    }
   ],
   "source": [
    "!pip install jupyterlab-widgets==1.1.1"
   ]
  },
  {
   "cell_type": "code",
   "execution_count": null,
   "id": "32d38c15-fbf0-4b2f-a102-edb65a8fdd5f",
   "metadata": {},
   "outputs": [],
   "source": [
    "!pip install ipywidgets==7.7"
   ]
  },
  {
   "cell_type": "code",
   "execution_count": null,
   "id": "eadb0427-dcd8-4966-bbb3-b11a3892389d",
   "metadata": {},
   "outputs": [],
   "source": [
    "!pip install powerbiclient\n",
    "!jupyter labextension install @jupyter-widgets/jupyterlab-manager"
   ]
  },
  {
   "cell_type": "code",
   "execution_count": null,
   "id": "9341be29-5248-41f0-97e2-a45f32e74ba6",
   "metadata": {},
   "outputs": [],
   "source": [
    "!jupyter nbextension enable --py [--sys-prefix|--user|--system] powerbiclient"
   ]
  },
  {
   "cell_type": "markdown",
   "id": "23cd50c9-4cfc-4e6a-93e0-16f70001876e",
   "metadata": {},
   "source": [
    "# Passos para executar fórmulas DAX no Jupyter Notebook\n"
   ]
  },
  {
   "cell_type": "markdown",
   "id": "d24604e7-923d-4d8f-80d9-b81bf5f8c235",
   "metadata": {},
   "source": [
    "## 1.Importar as bibliotecas:"
   ]
  },
  {
   "cell_type": "code",
   "execution_count": 2,
   "id": "452f04ea-b6f3-4f37-aecc-0c49d130577b",
   "metadata": {},
   "outputs": [],
   "source": [
    "# Credenciais do Power BI\n",
    "# workspace_id = 'seu_workspace_id'  # Substitua pelo seu Workspace ID\n",
    "# group_id = 'seu_group_id'  # Substitua pelo seu Group ID\n",
    "report_id = '247db1d9-285d-4071-94df-9817bff0d9aa'  # Substitua pelo seu Report ID"
   ]
  },
  {
   "cell_type": "markdown",
   "id": "57b108dc-975d-4f3a-958d-ca6b4773ecc6",
   "metadata": {},
   "source": [
    "## 2. Realizar a autenticação no Power Bi:"
   ]
  },
  {
   "cell_type": "code",
   "execution_count": 7,
   "id": "3b974ae9-ba59-48e5-b63b-dfe8099687e8",
   "metadata": {},
   "outputs": [
    {
     "name": "stdout",
     "output_type": "stream",
     "text": [
      "Performing device flow authentication. Please follow the instructions below.\n",
      "To sign in, use a web browser to open the page https://microsoft.com/devicelogin and enter the code E9KD24TDQ to authenticate.\n",
      "\n",
      "Device flow authentication successfully completed.\n",
      "You are now logged in .\n",
      "\n",
      "The result should be passed only to trusted code in your notebook.\n"
     ]
    }
   ],
   "source": [
    "device_auth = DeviceCodeLoginAuthentication()\n"
   ]
  },
  {
   "cell_type": "markdown",
   "id": "8ca09605-db17-4c97-b2f6-b4ec8aeeec2b",
   "metadata": {},
   "source": [
    "## 2. Obter o token de acesso:"
   ]
  },
  {
   "cell_type": "code",
   "execution_count": 8,
   "id": "1e679320-2057-4c26-8639-f7e1104b61a9",
   "metadata": {},
   "outputs": [],
   "source": [
    "token = device_auth.get_access_token()\n",
    "headers = {\n",
    "    'Content-Type': 'application/json',\n",
    "    'Authorization': f'Bearer {token}'\n",
    "}"
   ]
  },
  {
   "cell_type": "markdown",
   "id": "a0de56d0-80a0-4063-9256-bcb51a6a5393",
   "metadata": {},
   "source": [
    "## 3. Enviar as consulta DAX:"
   ]
  },
  {
   "cell_type": "markdown",
   "id": "e1df2b36-7f11-4dff-8ddf-78b8c67c71b8",
   "metadata": {},
   "source": [
    "* **Defina a URL da consulta:**"
   ]
  },
  {
   "cell_type": "code",
   "execution_count": 11,
   "id": "b70b9302-ac23-421c-9dd6-d1471fbba063",
   "metadata": {},
   "outputs": [],
   "source": [
    "dataset_id = '0a992292-09c2-45c6-bc9a-f9a66a8ccdc5'\n",
    "url = f'https://api.powerbi.com/v1.0/myorg/datasets/{dataset_id}/executeQueries'"
   ]
  },
  {
   "cell_type": "markdown",
   "id": "9e7c9e94-cac8-4850-b282-ada78885667d",
   "metadata": {},
   "source": [
    "* **Defina a Consulta DAX:**"
   ]
  },
  {
   "cell_type": "code",
   "execution_count": 12,
   "id": "cb0c87ce-9987-43c3-989a-442417a440cc",
   "metadata": {},
   "outputs": [],
   "source": [
    "dax_query = {\n",
    "    \"queries\": [\n",
    "        {\n",
    "            \"query\": \"EVALUATE SUMMARIZECOLUMNS('Table'[Product])\"\n",
    "        }\n",
    "    ],\n",
    "    \"serializerSettings\": {\n",
    "        \"includeNulls\": True\n",
    "    }\n",
    "}\n"
   ]
  },
  {
   "cell_type": "markdown",
   "id": "1981b7b2-bbd3-408d-817f-643c37bf8c97",
   "metadata": {},
   "source": [
    "* **Envie a Consulta e Obtenho os resultados**: "
   ]
  },
  {
   "cell_type": "code",
   "execution_count": 13,
   "id": "a0be0820-dcb5-4e92-94dc-60beb8e67e1c",
   "metadata": {},
   "outputs": [],
   "source": [
    "response = requests.post(url, headers=headers, json=dax_query)\n",
    "response_data = response.json()"
   ]
  },
  {
   "cell_type": "markdown",
   "id": "0b65c473-8668-41a9-8e1e-90fc506a5814",
   "metadata": {},
   "source": [
    "## 4. Processar os resultados:"
   ]
  },
  {
   "cell_type": "markdown",
   "id": "42acd7b3-52fe-49e6-b760-3c6f8fa71db0",
   "metadata": {},
   "source": [
    "* **Convertendo o resultado em um DataFrame do Pandas:**"
   ]
  },
  {
   "cell_type": "code",
   "execution_count": 14,
   "id": "f66e3abc-4363-432a-a7a1-4ab9a99823c3",
   "metadata": {},
   "outputs": [
    {
     "data": {
      "text/html": [
       "<div>\n",
       "<style scoped>\n",
       "    .dataframe tbody tr th:only-of-type {\n",
       "        vertical-align: middle;\n",
       "    }\n",
       "\n",
       "    .dataframe tbody tr th {\n",
       "        vertical-align: top;\n",
       "    }\n",
       "\n",
       "    .dataframe thead th {\n",
       "        text-align: right;\n",
       "    }\n",
       "</style>\n",
       "<table border=\"1\" class=\"dataframe\">\n",
       "  <thead>\n",
       "    <tr style=\"text-align: right;\">\n",
       "      <th></th>\n",
       "      <th>Table[Product]</th>\n",
       "    </tr>\n",
       "  </thead>\n",
       "  <tbody>\n",
       "    <tr>\n",
       "      <th>0</th>\n",
       "      <td>Carretera</td>\n",
       "    </tr>\n",
       "    <tr>\n",
       "      <th>1</th>\n",
       "      <td>Montana</td>\n",
       "    </tr>\n",
       "    <tr>\n",
       "      <th>2</th>\n",
       "      <td>Paseo</td>\n",
       "    </tr>\n",
       "    <tr>\n",
       "      <th>3</th>\n",
       "      <td>Velo</td>\n",
       "    </tr>\n",
       "    <tr>\n",
       "      <th>4</th>\n",
       "      <td>VTT</td>\n",
       "    </tr>\n",
       "    <tr>\n",
       "      <th>5</th>\n",
       "      <td>Amarilla</td>\n",
       "    </tr>\n",
       "  </tbody>\n",
       "</table>\n",
       "</div>"
      ],
      "text/plain": [
       "  Table[Product]\n",
       "0      Carretera\n",
       "1        Montana\n",
       "2          Paseo\n",
       "3           Velo\n",
       "4            VTT\n",
       "5       Amarilla"
      ]
     },
     "metadata": {},
     "output_type": "display_data"
    }
   ],
   "source": [
    "results = response_data['results'][0]['tables'][0]['rows']\n",
    "df = pd.DataFrame(results)\n",
    "display(df)"
   ]
  },
  {
   "cell_type": "markdown",
   "id": "280606e2-77a7-4bf1-b4e9-6023fa8d6b36",
   "metadata": {},
   "source": [
    "link da documentação:[documentação]('https://learn.microsoft.com/en-us/rest/api/power-bi/datasets/execute-queries') "
   ]
  },
  {
   "cell_type": "markdown",
   "id": "575871e5-9d09-4c8c-b575-4ad7b888a2c9",
   "metadata": {},
   "source": [
    "# Integração do data.world com python:"
   ]
  },
  {
   "cell_type": "markdown",
   "id": "fe41f2c2-9bd8-4a6e-a40a-26351868e035",
   "metadata": {},
   "source": [
    "## Instalação da biblioteca:"
   ]
  },
  {
   "cell_type": "code",
   "execution_count": 16,
   "id": "782e1683-4e0b-4d14-a2a6-4131b8636707",
   "metadata": {},
   "outputs": [],
   "source": [
    "!pip install datadotworld -q"
   ]
  },
  {
   "cell_type": "markdown",
   "id": "b3db3f25-64f6-40a7-9254-11e82459c66d",
   "metadata": {},
   "source": [
    "## Configuração:"
   ]
  },
  {
   "cell_type": "markdown",
   "id": "001c2325-5334-4dc6-b142-c59494eb032e",
   "metadata": {},
   "source": [
    "### Esta biblioteca requer um token de autenticação da API data.world para funcionar.\n",
    "Seu token de autenticação pode ser obtido no data.world depois que você habilitar o [Python em Integrações]('https://data.world/integrations/python')"
   ]
  },
  {
   "cell_type": "markdown",
   "id": "602787f2-459f-40a0-bb85-dc2b9747b0a2",
   "metadata": {},
   "source": [
    "* **Para configurar a biblioteca, execute o seguinte comando:**"
   ]
  },
  {
   "cell_type": "markdown",
   "id": "dae9f575-49e0-4075-9293-a28eb821cea9",
   "metadata": {},
   "source": [
    "$ dw configure"
   ]
  },
  {
   "cell_type": "markdown",
   "id": "d7719812-d20e-46d7-8d5a-60ed72f619fc",
   "metadata": {},
   "source": [
    "* Alternativamente, os tokens podem ser fornecidos por meio da variável de ambiente DW_AUTH_TOKEN . Em máquinas MacOS ou Unix, execute (substituindo <YOUR_TOKEN>> abaixo pelo token obtido anteriormente):\n",
    "`export DW_AUTH_TOKEN=<YOUR_TOKEN>`"
   ]
  },
  {
   "cell_type": "markdown",
   "id": "3c181005-9c45-4906-9d08-a2411fc86034",
   "metadata": {},
   "source": [
    "### Carregar um conjunto de dados"
   ]
  },
  {
   "cell_type": "code",
   "execution_count": 19,
   "id": "625f5f4a-1b65-4a41-ae71-ef4801b39142",
   "metadata": {},
   "outputs": [],
   "source": [
    "import datadotworld as dw\n"
   ]
  },
  {
   "cell_type": "code",
   "execution_count": 22,
   "id": "b7c883b8-087e-49d6-8b88-4a282daefab1",
   "metadata": {},
   "outputs": [],
   "source": [
    "intro_dataset = dw.load_dataset('jcnok/financial-sample')"
   ]
  },
  {
   "cell_type": "code",
   "execution_count": 23,
   "id": "f3b27b67-a027-4da1-a1f1-50e570b2419d",
   "metadata": {},
   "outputs": [
    {
     "data": {
      "text/plain": [
       "LazyLoadedDict({'financial_sample': LazyLoadedValue(<pandas.DataFrame>)})"
      ]
     },
     "execution_count": 23,
     "metadata": {},
     "output_type": "execute_result"
    }
   ],
   "source": [
    "intro_dataset.dataframes"
   ]
  },
  {
   "cell_type": "markdown",
   "id": "984ade07-58c3-4122-98b3-64fb74d5ebdb",
   "metadata": {},
   "source": [
    "* **Você também pode revisar os metadados associados a um arquivo ou ao conjunto de dados inteiro, usando a função describe . Por exemplo:**"
   ]
  },
  {
   "cell_type": "code",
   "execution_count": 24,
   "id": "7f4bb4d4-f3f3-441b-a68c-ded85719872d",
   "metadata": {},
   "outputs": [
    {
     "data": {
      "text/plain": [
       "{'name': 'jcnok_financial-sample',\n",
       " 'title': 'Financial Sample',\n",
       " 'description': 'O conjunto de dados \"financial sample.xlsx\" é um arquivo que contém informações financeiras.\\n\\n---\\n{\"editor\":\"markdown\"}\\n---\\nAqui estão as colunas do conjunto de dados e suas respectivas descrições:\\n\\n1. **Segment (Segmento)**\\n   - Descrição: O segmento de mercado ao qual o produto pertence.\\n   \\n2. **Country (País)**\\n   - Descrição: O país onde a venda foi realizada.\\n\\n3. **Product (Produto)**\\n   - Descrição: O nome do produto vendido.\\n\\n4. **Discount Band (Banda de Desconto)**\\n   - Descrição: Corresponde a classificação do desconto, High(alto), Medium(médio), Low(baixo), None(sem desconto)\\n\\n5. **Units Sold (Unidades Vendidas)**\\n   - Descrição: O número de unidades do produto vendidas.\\n\\n6. **Manufacturing Price (Preço de Fabricação)**\\n   - Descrição: O custo de fabricação de uma unidade do produto.\\n\\n7. **Sale Price (Preço de Venda)**\\n   - Descrição: O preço de venda de uma unidade do produto.\\n\\n8. **Gross Sales (Vendas Brutas)**\\n   - Descrição: A receita bruta gerada pelas vendas (Unidades Vendidas * Preço de Venda).\\n\\n9. **Discounts (Descontos)**\\n   - Descrição: O valor total de descontos aplicados às vendas.\\n\\n10. **Sales (Vendas)**\\n    - Descrição: A receita líquida gerada pelas vendas (Vendas Brutas - Descontos).\\n\\n11. **COGS (Custo dos Produtos Vendidos)**\\n    - Descrição: O custo dos produtos vendidos, é o custo total de fabricação ou compra de um produto que uma empresa vende. Inclui o custo dos materiais, mão de obra e outras despesas diretamente relacionadas à produção do produto.\\n\\n12. **Profit (Lucro)**\\n    - Descrição: O lucro gerado pelas vendas (Vendas - Custo dos Bens Vendidos).\\n\\n13. **Date (Data)**\\n    - Descrição: A data em que a venda foi realizada.\\n    \\n14. **Month Number (Mês em Número)**\\n    - Descrição: Mês em número em que a venda foi realizada.\\n    \\n15. **Month Name (Mês)**\\n    - Descrição: Mês em que a venda foi realizada.\\n\\n16. **Year (Ano)**\\n    - Descrição: Ano em que a venda foi realizada.',\n",
       " 'homepage': 'https://data.world/jcnok/financial-sample',\n",
       " 'resources': [{'name': 'financial_sample',\n",
       "   'path': 'data/financial_sample.csv',\n",
       "   'format': 'csv',\n",
       "   'profile': 'data-resource'},\n",
       "  {'name': 'original/Financial Sample.xlsx',\n",
       "   'path': 'original/Financial Sample.xlsx',\n",
       "   'format': 'xlsx',\n",
       "   'mediatype': 'application/vnd.openxmlformats-officedocument.spreadsheetml.sheet',\n",
       "   'bytes': 83418,\n",
       "   'profile': 'data-resource'}],\n",
       " 'profile': 'data-package'}"
      ]
     },
     "execution_count": 24,
     "metadata": {},
     "output_type": "execute_result"
    }
   ],
   "source": [
    "intro_dataset.describe()"
   ]
  },
  {
   "cell_type": "markdown",
   "id": "1059faad-3c2b-47cd-a714-dafca3b32fab",
   "metadata": {},
   "source": [
    "### Consultar um conjunto de dados:"
   ]
  },
  {
   "cell_type": "markdown",
   "id": "5e4f6d11-9796-4ceb-9ff2-0d24c054d8cc",
   "metadata": {},
   "source": [
    "* A função query() permite que conjuntos de dados sejam consultados ao vivo usando linguagens de consulta SQL ou SPARQL .\n",
    "\n",
    "* Para consultar um conjunto de dados, invoque a função query() . Por exemplo:"
   ]
  },
  {
   "cell_type": "code",
   "execution_count": 29,
   "id": "38ecc2c8-7b6a-4eb2-a858-760f6adcd532",
   "metadata": {},
   "outputs": [],
   "source": [
    "results = dw.query('jcnok/financial-sample', 'SELECT * FROM financial_sample')"
   ]
  },
  {
   "cell_type": "code",
   "execution_count": 30,
   "id": "3f596d95-a2a1-4b8b-8793-a1a97a11f168",
   "metadata": {},
   "outputs": [
    {
     "data": {
      "text/html": [
       "<div>\n",
       "<style scoped>\n",
       "    .dataframe tbody tr th:only-of-type {\n",
       "        vertical-align: middle;\n",
       "    }\n",
       "\n",
       "    .dataframe tbody tr th {\n",
       "        vertical-align: top;\n",
       "    }\n",
       "\n",
       "    .dataframe thead th {\n",
       "        text-align: right;\n",
       "    }\n",
       "</style>\n",
       "<table border=\"1\" class=\"dataframe\">\n",
       "  <thead>\n",
       "    <tr style=\"text-align: right;\">\n",
       "      <th></th>\n",
       "      <th>segment</th>\n",
       "      <th>country</th>\n",
       "      <th>product</th>\n",
       "      <th>discount_band</th>\n",
       "      <th>units_sold</th>\n",
       "      <th>manufacturing_price</th>\n",
       "      <th>sale_price</th>\n",
       "      <th>gross_sales</th>\n",
       "      <th>discounts</th>\n",
       "      <th>sales</th>\n",
       "      <th>cogs</th>\n",
       "      <th>profit</th>\n",
       "      <th>date</th>\n",
       "      <th>month_number</th>\n",
       "      <th>month_name</th>\n",
       "      <th>year</th>\n",
       "    </tr>\n",
       "  </thead>\n",
       "  <tbody>\n",
       "    <tr>\n",
       "      <th>0</th>\n",
       "      <td>Government</td>\n",
       "      <td>Canada</td>\n",
       "      <td>Carretera</td>\n",
       "      <td>None</td>\n",
       "      <td>1618.5</td>\n",
       "      <td>3</td>\n",
       "      <td>20</td>\n",
       "      <td>32370.0</td>\n",
       "      <td>0.00</td>\n",
       "      <td>32370.00</td>\n",
       "      <td>16185.0</td>\n",
       "      <td>16185.00</td>\n",
       "      <td>2014-01-01</td>\n",
       "      <td>1</td>\n",
       "      <td>January</td>\n",
       "      <td>2014</td>\n",
       "    </tr>\n",
       "    <tr>\n",
       "      <th>1</th>\n",
       "      <td>Government</td>\n",
       "      <td>Germany</td>\n",
       "      <td>Carretera</td>\n",
       "      <td>None</td>\n",
       "      <td>1321.0</td>\n",
       "      <td>3</td>\n",
       "      <td>20</td>\n",
       "      <td>26420.0</td>\n",
       "      <td>0.00</td>\n",
       "      <td>26420.00</td>\n",
       "      <td>13210.0</td>\n",
       "      <td>13210.00</td>\n",
       "      <td>2014-01-01</td>\n",
       "      <td>1</td>\n",
       "      <td>January</td>\n",
       "      <td>2014</td>\n",
       "    </tr>\n",
       "    <tr>\n",
       "      <th>2</th>\n",
       "      <td>Midmarket</td>\n",
       "      <td>France</td>\n",
       "      <td>Carretera</td>\n",
       "      <td>None</td>\n",
       "      <td>2178.0</td>\n",
       "      <td>3</td>\n",
       "      <td>15</td>\n",
       "      <td>32670.0</td>\n",
       "      <td>0.00</td>\n",
       "      <td>32670.00</td>\n",
       "      <td>21780.0</td>\n",
       "      <td>10890.00</td>\n",
       "      <td>2014-06-01</td>\n",
       "      <td>6</td>\n",
       "      <td>June</td>\n",
       "      <td>2014</td>\n",
       "    </tr>\n",
       "    <tr>\n",
       "      <th>3</th>\n",
       "      <td>Midmarket</td>\n",
       "      <td>Germany</td>\n",
       "      <td>Carretera</td>\n",
       "      <td>None</td>\n",
       "      <td>888.0</td>\n",
       "      <td>3</td>\n",
       "      <td>15</td>\n",
       "      <td>13320.0</td>\n",
       "      <td>0.00</td>\n",
       "      <td>13320.00</td>\n",
       "      <td>8880.0</td>\n",
       "      <td>4440.00</td>\n",
       "      <td>2014-06-01</td>\n",
       "      <td>6</td>\n",
       "      <td>June</td>\n",
       "      <td>2014</td>\n",
       "    </tr>\n",
       "    <tr>\n",
       "      <th>4</th>\n",
       "      <td>Midmarket</td>\n",
       "      <td>Mexico</td>\n",
       "      <td>Carretera</td>\n",
       "      <td>None</td>\n",
       "      <td>2470.0</td>\n",
       "      <td>3</td>\n",
       "      <td>15</td>\n",
       "      <td>37050.0</td>\n",
       "      <td>0.00</td>\n",
       "      <td>37050.00</td>\n",
       "      <td>24700.0</td>\n",
       "      <td>12350.00</td>\n",
       "      <td>2014-06-01</td>\n",
       "      <td>6</td>\n",
       "      <td>June</td>\n",
       "      <td>2014</td>\n",
       "    </tr>\n",
       "    <tr>\n",
       "      <th>...</th>\n",
       "      <td>...</td>\n",
       "      <td>...</td>\n",
       "      <td>...</td>\n",
       "      <td>...</td>\n",
       "      <td>...</td>\n",
       "      <td>...</td>\n",
       "      <td>...</td>\n",
       "      <td>...</td>\n",
       "      <td>...</td>\n",
       "      <td>...</td>\n",
       "      <td>...</td>\n",
       "      <td>...</td>\n",
       "      <td>...</td>\n",
       "      <td>...</td>\n",
       "      <td>...</td>\n",
       "      <td>...</td>\n",
       "    </tr>\n",
       "    <tr>\n",
       "      <th>695</th>\n",
       "      <td>Small Business</td>\n",
       "      <td>France</td>\n",
       "      <td>Amarilla</td>\n",
       "      <td>High</td>\n",
       "      <td>2475.0</td>\n",
       "      <td>260</td>\n",
       "      <td>300</td>\n",
       "      <td>742500.0</td>\n",
       "      <td>111375.00</td>\n",
       "      <td>631125.00</td>\n",
       "      <td>618750.0</td>\n",
       "      <td>12375.00</td>\n",
       "      <td>2014-03-01</td>\n",
       "      <td>3</td>\n",
       "      <td>March</td>\n",
       "      <td>2014</td>\n",
       "    </tr>\n",
       "    <tr>\n",
       "      <th>696</th>\n",
       "      <td>Small Business</td>\n",
       "      <td>Mexico</td>\n",
       "      <td>Amarilla</td>\n",
       "      <td>High</td>\n",
       "      <td>546.0</td>\n",
       "      <td>260</td>\n",
       "      <td>300</td>\n",
       "      <td>163800.0</td>\n",
       "      <td>24570.00</td>\n",
       "      <td>139230.00</td>\n",
       "      <td>136500.0</td>\n",
       "      <td>2730.00</td>\n",
       "      <td>2014-10-01</td>\n",
       "      <td>10</td>\n",
       "      <td>October</td>\n",
       "      <td>2014</td>\n",
       "    </tr>\n",
       "    <tr>\n",
       "      <th>697</th>\n",
       "      <td>Government</td>\n",
       "      <td>Mexico</td>\n",
       "      <td>Montana</td>\n",
       "      <td>High</td>\n",
       "      <td>1368.0</td>\n",
       "      <td>5</td>\n",
       "      <td>7</td>\n",
       "      <td>9576.0</td>\n",
       "      <td>1436.40</td>\n",
       "      <td>8139.60</td>\n",
       "      <td>6840.0</td>\n",
       "      <td>1299.60</td>\n",
       "      <td>2014-02-01</td>\n",
       "      <td>2</td>\n",
       "      <td>February</td>\n",
       "      <td>2014</td>\n",
       "    </tr>\n",
       "    <tr>\n",
       "      <th>698</th>\n",
       "      <td>Government</td>\n",
       "      <td>Canada</td>\n",
       "      <td>Paseo</td>\n",
       "      <td>High</td>\n",
       "      <td>723.0</td>\n",
       "      <td>10</td>\n",
       "      <td>7</td>\n",
       "      <td>5061.0</td>\n",
       "      <td>759.15</td>\n",
       "      <td>4301.85</td>\n",
       "      <td>3615.0</td>\n",
       "      <td>686.85</td>\n",
       "      <td>2014-04-01</td>\n",
       "      <td>4</td>\n",
       "      <td>April</td>\n",
       "      <td>2014</td>\n",
       "    </tr>\n",
       "    <tr>\n",
       "      <th>699</th>\n",
       "      <td>Channel Partners</td>\n",
       "      <td>United States of America</td>\n",
       "      <td>VTT</td>\n",
       "      <td>High</td>\n",
       "      <td>1806.0</td>\n",
       "      <td>250</td>\n",
       "      <td>12</td>\n",
       "      <td>21672.0</td>\n",
       "      <td>3250.80</td>\n",
       "      <td>18421.20</td>\n",
       "      <td>5418.0</td>\n",
       "      <td>13003.20</td>\n",
       "      <td>2014-05-01</td>\n",
       "      <td>5</td>\n",
       "      <td>May</td>\n",
       "      <td>2014</td>\n",
       "    </tr>\n",
       "  </tbody>\n",
       "</table>\n",
       "<p>700 rows × 16 columns</p>\n",
       "</div>"
      ],
      "text/plain": [
       "              segment                   country    product discount_band  \\\n",
       "0          Government                    Canada  Carretera          None   \n",
       "1          Government                   Germany  Carretera          None   \n",
       "2           Midmarket                    France  Carretera          None   \n",
       "3           Midmarket                   Germany  Carretera          None   \n",
       "4           Midmarket                    Mexico  Carretera          None   \n",
       "..                ...                       ...        ...           ...   \n",
       "695    Small Business                    France   Amarilla          High   \n",
       "696    Small Business                    Mexico   Amarilla          High   \n",
       "697        Government                    Mexico    Montana          High   \n",
       "698        Government                    Canada      Paseo          High   \n",
       "699  Channel Partners  United States of America        VTT          High   \n",
       "\n",
       "     units_sold  manufacturing_price  sale_price  gross_sales  discounts  \\\n",
       "0        1618.5                    3          20      32370.0       0.00   \n",
       "1        1321.0                    3          20      26420.0       0.00   \n",
       "2        2178.0                    3          15      32670.0       0.00   \n",
       "3         888.0                    3          15      13320.0       0.00   \n",
       "4        2470.0                    3          15      37050.0       0.00   \n",
       "..          ...                  ...         ...          ...        ...   \n",
       "695      2475.0                  260         300     742500.0  111375.00   \n",
       "696       546.0                  260         300     163800.0   24570.00   \n",
       "697      1368.0                    5           7       9576.0    1436.40   \n",
       "698       723.0                   10           7       5061.0     759.15   \n",
       "699      1806.0                  250          12      21672.0    3250.80   \n",
       "\n",
       "         sales      cogs    profit        date  month_number month_name  year  \n",
       "0     32370.00   16185.0  16185.00  2014-01-01             1    January  2014  \n",
       "1     26420.00   13210.0  13210.00  2014-01-01             1    January  2014  \n",
       "2     32670.00   21780.0  10890.00  2014-06-01             6       June  2014  \n",
       "3     13320.00    8880.0   4440.00  2014-06-01             6       June  2014  \n",
       "4     37050.00   24700.0  12350.00  2014-06-01             6       June  2014  \n",
       "..         ...       ...       ...         ...           ...        ...   ...  \n",
       "695  631125.00  618750.0  12375.00  2014-03-01             3      March  2014  \n",
       "696  139230.00  136500.0   2730.00  2014-10-01            10    October  2014  \n",
       "697    8139.60    6840.0   1299.60  2014-02-01             2   February  2014  \n",
       "698    4301.85    3615.0    686.85  2014-04-01             4      April  2014  \n",
       "699   18421.20    5418.0  13003.20  2014-05-01             5        May  2014  \n",
       "\n",
       "[700 rows x 16 columns]"
      ]
     },
     "execution_count": 30,
     "metadata": {},
     "output_type": "execute_result"
    }
   ],
   "source": [
    "results.dataframe"
   ]
  },
  {
   "cell_type": "markdown",
   "id": "5b29d552-2a08-4ac8-92c6-e995a36abcb4",
   "metadata": {},
   "source": [
    "Documentação da API: [Datadotworld]('https://pypi.org/project/datadotworld/')"
   ]
  },
  {
   "cell_type": "code",
   "execution_count": null,
   "id": "f0fa4e03-078e-4841-9f3e-3c60bddad930",
   "metadata": {},
   "outputs": [],
   "source": []
  }
 ],
 "metadata": {
  "kernelspec": {
   "display_name": "Python 3 (ipykernel)",
   "language": "python",
   "name": "python3"
  },
  "language_info": {
   "codemirror_mode": {
    "name": "ipython",
    "version": 3
   },
   "file_extension": ".py",
   "mimetype": "text/x-python",
   "name": "python",
   "nbconvert_exporter": "python",
   "pygments_lexer": "ipython3",
   "version": "3.12.1"
  }
 },
 "nbformat": 4,
 "nbformat_minor": 5
}
